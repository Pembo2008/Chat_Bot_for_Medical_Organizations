{
  "cells": [
    {
      "cell_type": "markdown",
      "metadata": {
        "id": "Csjb1j-_q3YD"
      },
      "source": [
        "### Подготовка"
      ]
    },
    {
      "cell_type": "code",
      "execution_count": null,
      "metadata": {
        "id": "YCDmcE8KIwlj",
        "colab": {
          "base_uri": "https://localhost:8080/"
        },
        "outputId": "0187739d-4a9d-44e3-e827-7d60fb02897c"
      },
      "outputs": [
        {
          "output_type": "stream",
          "name": "stdout",
          "text": [
            "Mounted at /content/drive\n"
          ]
        }
      ],
      "source": [
        "from google.colab import drive\n",
        "drive.mount('/content/drive')"
      ]
    },
    {
      "cell_type": "code",
      "execution_count": null,
      "metadata": {
        "id": "h8GS4lhhiqOE"
      },
      "outputs": [],
      "source": [
        "!pip install wget\n",
        "!apt-get install sox libsndfile1 ffmpeg\n",
        "!pip install text-unidecode\n",
        "!pip install matplotlib>=3.3.2\n",
        "!pip install pytorch-lightning --upgrade\n",
        "## Install NeMo\n",
        "BRANCH = 'r1.17.0'\n",
        "!python -m pip install git+https://github.com/NVIDIA/NeMo.git@$BRANCH#egg=nemo_toolkit[all]\n",
        "from IPython.display import clear_output\n",
        "clear_output()"
      ]
    },
    {
      "cell_type": "code",
      "execution_count": null,
      "metadata": {
        "id": "YIr1igusirxM",
        "colab": {
          "base_uri": "https://localhost:8080/"
        },
        "outputId": "2a2511d4-c06e-46ee-a9b4-bd8a773d03a5"
      },
      "outputs": [
        {
          "output_type": "stream",
          "name": "stderr",
          "text": [
            "[NeMo W 2023-04-25 14:00:08 optimizers:54] Apex was not found. Using the lamb or fused_adam optimizer will error out.\n",
            "[NeMo W 2023-04-25 14:00:11 experimental:27] Module <class 'nemo.collections.asr.modules.audio_modules.SpectrogramToMultichannelFeatures'> is experimental, not ready for production and is not fully supported. Use at your own risk.\n"
          ]
        }
      ],
      "source": [
        "import nemo\n",
        "# импортируе Nemo коллекцию, которая содержит все asr модели\n",
        "import nemo.collections.asr as nemo_asr"
      ]
    },
    {
      "cell_type": "code",
      "execution_count": null,
      "metadata": {
        "id": "PV_BegdzMU2h"
      },
      "outputs": [],
      "source": [
        "# import torch\n",
        "# device = torch.device('cuda')"
      ]
    },
    {
      "cell_type": "code",
      "execution_count": null,
      "metadata": {
        "id": "nqAZKgPUIiQI"
      },
      "outputs": [],
      "source": [
        "import glob\n",
        "import os\n",
        "import subprocess\n",
        "import tarfile\n",
        "import wget\n",
        "import wave\n",
        "import contextlib\n",
        "from google.colab import files\n",
        "import pandas as pd\n",
        "import json\n",
        "import uuid\n",
        "from IPython.display import clear_output"
      ]
    },
    {
      "cell_type": "markdown",
      "source": [
        "Приписываем пути к манифестам"
      ],
      "metadata": {
        "id": "VYDtOs7tDho6"
      }
    },
    {
      "cell_type": "code",
      "execution_count": null,
      "metadata": {
        "id": "ZcxYYPSYBtq6"
      },
      "outputs": [],
      "source": [
        "data_dir = '/content/drive/MyDrive/vkr'\n",
        "manifest_test_filepath = '/content/drive/MyDrive/vkr/test_golos/test_golos.jsonl'\n",
        "manifest_train_filepath = '/content/drive/MyDrive/vkr/train_golos/train_golos.jsonl'\n",
        "test_data_abs_path = '/content/drive/MyDrive/vkr/test_golos/test_golos.jsonl'\n",
        "train_data_abs_path ='/content/drive/MyDrive/vkr/train_golos/train_golos.jsonl'"
      ]
    },
    {
      "cell_type": "markdown",
      "source": [
        "Преобразуем стерео аудио в моно аудио"
      ],
      "metadata": {
        "id": "0um0mWmqDltJ"
      }
    },
    {
      "cell_type": "code",
      "source": [
        "# import os\n",
        "# import subprocess\n",
        "\n",
        "# def convert_to_wav(directory_path):\n",
        "#     for root, dirs, files in os.walk(directory_path):\n",
        "#         for file in files:\n",
        "#             if file.endswith('.wav'):\n",
        "#                 input_path = os.path.join(root, file)\n",
        "#                 output_path = os.path.splitext(input_path)[0] + '3.wav'\n",
        "#                 subprocess.call(['ffmpeg', '-i', input_path, '-vn', '-acodec', 'pcm_s16le', '-ac', '1', '-ar', '16000', output_path])\n",
        "#                 # os.remove(input_path)"
      ],
      "metadata": {
        "id": "wd60Mgjnx4Qh"
      },
      "execution_count": null,
      "outputs": []
    },
    {
      "cell_type": "code",
      "source": [
        "# convert_to_wav(train_data_abs_path)"
      ],
      "metadata": {
        "id": "M8UOrf7oz_Wc"
      },
      "execution_count": null,
      "outputs": []
    },
    {
      "cell_type": "code",
      "source": [
        "from pydub import AudioSegment\n",
        "\n",
        "def get_audio_duration(filepath):\n",
        "    audio = AudioSegment.from_file(filepath)\n",
        "    duration = audio.duration_seconds\n",
        "    return duration"
      ],
      "metadata": {
        "id": "Wdp9jBRCx0fk"
      },
      "execution_count": null,
      "outputs": []
    },
    {
      "cell_type": "code",
      "execution_count": null,
      "metadata": {
        "id": "csf0X4BgBikg"
      },
      "outputs": [],
      "source": [
        "def read_json_file(file):\n",
        "    with open(file, \"r\") as r:\n",
        "        response = r.read()\n",
        "        response = response.replace('\\n', '')\n",
        "        response = response.replace('}{', '},{')\n",
        "        response = \"[\" + response + \"]\"\n",
        "        return json.loads(response)"
      ]
    },
    {
      "cell_type": "code",
      "execution_count": null,
      "metadata": {
        "id": "g2kJ0LNs_9i1"
      },
      "outputs": [],
      "source": [
        "import os\n",
        "import json\n",
        "\n",
        "def make_manifest(root_dir, manifest_path):\n",
        "    manifest = []\n",
        "    for class_dir in os.listdir(root_dir):\n",
        "        class_path = os.path.join(root_dir, class_dir)\n",
        "        if os.path.isdir(class_path):\n",
        "            for audio_file in os.listdir(class_path):\n",
        "                audio_path = os.path.join(class_path, audio_file)\n",
        "                if audio_path.endswith('.wav'):\n",
        "                    duration = get_audio_duration(audio_path)\n",
        "                    manifest.append({\n",
        "                        'audio_filepath': audio_path,\n",
        "                        'duration': duration,\n",
        "                        'text': class_dir,\n",
        "                    })\n",
        "\n",
        "    with open(manifest_path, 'w') as f:\n",
        "        for line in manifest:\n",
        "            json.dump(line, f)\n",
        "            f.write('\\n')"
      ]
    },
    {
      "cell_type": "markdown",
      "source": [
        "Можно построить манифесты заново"
      ],
      "metadata": {
        "id": "82nQk65KDqoV"
      }
    },
    {
      "cell_type": "code",
      "source": [
        "# audio_dir = '/content/drive/MyDrive/vkr/test_golos/crowd/tmp'\n",
        "# manifest_path = '/content/drive/MyDrive/vkr/test_golos/crowd/tmp/tmp_manifest.json'\n",
        "\n",
        "# make_manifest(audio_dir, manifest_path)"
      ],
      "metadata": {
        "id": "8hTBnm8UxkiL"
      },
      "execution_count": null,
      "outputs": []
    },
    {
      "cell_type": "code",
      "source": [
        "\n",
        "# audio_dir = test_data_abs_path\n",
        "# manifest_path = manifest_test_filepath\n",
        "\n",
        "# make_manifest(audio_dir, manifest_path)"
      ],
      "metadata": {
        "id": "i1LNXSNL2rrt"
      },
      "execution_count": null,
      "outputs": []
    },
    {
      "cell_type": "markdown",
      "source": [
        "### Обучение"
      ],
      "metadata": {
        "id": "6yYycWrN9ikm"
      }
    },
    {
      "cell_type": "markdown",
      "source": [
        "Подгружаем файлы, которые мы добавим к медицинским терминам"
      ],
      "metadata": {
        "id": "OnpsieQID0AG"
      }
    },
    {
      "cell_type": "code",
      "source": [
        "def load(golos_url, fname):\n",
        "  if not os.path.exists(os.path.join(data_dir, fname)):\n",
        "      golos_path = wget.download(golos_url, os.path.join(data_dir, fname))\n",
        "      print(f\"Dataset downloaded at: {golos_path}\")\n",
        "  else:\n",
        "      print(\"Tarfile already exists.\")\n",
        "      golos_path = os.path.join(data_dir, fname)\n",
        "  return golos_path"
      ],
      "metadata": {
        "id": "2MRoyPd1jyAf"
      },
      "execution_count": null,
      "outputs": []
    },
    {
      "cell_type": "code",
      "source": [
        "! head /content/drive/MyDrive/vkr/train_golos/crowd/manifest_train_golos.jsonl"
      ],
      "metadata": {
        "colab": {
          "base_uri": "https://localhost:8080/"
        },
        "id": "kCDorSFO9j4-",
        "outputId": "42a10cd3-053e-413a-ff2f-57dc6a3fe0da"
      },
      "execution_count": null,
      "outputs": [
        {
          "output_type": "stream",
          "name": "stdout",
          "text": [
            "{\"id\": \"77b380796d242cf5bc09cfb551cffecd\", \"audio_filepath\": \"crowd/0/77b380796d242cf5bc09cfb551cffecd.wav\", \"text\": \"\\u0430\\u043b\\u0438\\u0431\\u0438\", \"duration\": 1.21}\n",
            "{\"id\": \"404e1eecbc38a687e036739f2e5dd6d3\", \"audio_filepath\": \"crowd/0/404e1eecbc38a687e036739f2e5dd6d3.wav\", \"text\": \"\\u0441\\u043a\\u0430\\u0437\\u043a\\u0430\", \"duration\": 2.9}\n",
            "{\"id\": \"f913db484595c1bcdd9476194b08a1f4\", \"audio_filepath\": \"crowd/0/f913db484595c1bcdd9476194b08a1f4.wav\", \"text\": \"\\u043d\\u0430\\u0439\\u0434\\u0438 \\u0432 \\u043d\\u0435\\u0442\\u0435 \\u043c\\u0443\\u043b\\u044c\\u0442 \\u0441\\u0442\\u0430\\u043b\\u044c\\u043d\\u043e\\u0439 \\u0433\\u0438\\u0433\\u0430\\u043d\\u0442\", \"duration\": 4.76}\n",
            "{\"id\": \"eca448acf1712fa7ca08aede3d2df1ac\", \"audio_filepath\": \"crowd/0/eca448acf1712fa7ca08aede3d2df1ac.wav\", \"text\": \"\\u043c\\u043e\\u043d\\u0430 \\u043b\\u0438\\u0437\\u0430\", \"duration\": 2.3}\n",
            "{\"id\": \"a366eecb0a85ef76463e1f4b5188b698\", \"audio_filepath\": \"crowd/0/a366eecb0a85ef76463e1f4b5188b698.wav\", \"text\": \"\\u0441\\u043c\\u043e\\u0442\\u0440\\u0435\\u0442\\u044c \\u0441\\u0435\\u0440\\u0438\\u0430\\u043b \\u0432\\u043e\\u0441\\u0435\\u043c\\u044c \\u0441 \\u043f\\u043e\\u043b\\u043e\\u0432\\u0438\\u043d\\u043e\\u0439\", \"duration\": 3.78}\n",
            "{\"id\": \"37e7ee229ce692fc007e344e6376e90a\", \"audio_filepath\": \"crowd/0/37e7ee229ce692fc007e344e6376e90a.wav\", \"text\": \"\\u0432\\u0440\\u0443\\u0431\\u0438 \\u0440\\u043e\\u0441\\u0441\\u0438\\u0439\\u0441\\u043a\\u0438\\u0439 \\u0444\\u0438\\u043b\\u044c\\u043c \\u043c\\u043e\\u0441\\u0433\\u043e\\u0440\\u0441\\u043c\\u0435\\u0445\", \"duration\": 4.54}\n",
            "{\"id\": \"69c2473c78844219a6625157c0a9cb2d\", \"audio_filepath\": \"crowd/0/69c2473c78844219a6625157c0a9cb2d.wav\", \"text\": \"\\u043d\\u0430\\u0439\\u0434\\u0438 \\u043d\\u0430 \\u044e\\u0442\\u0443\\u0431\\u0435 \\u0444\\u0438\\u043b\\u044c\\u043c \\u043c\\u0435\\u043d\\u044f \\u0437\\u043e\\u0432\\u0443\\u0442 \\u043c\\u043e\\u0445\\u0430\\u043c\\u043c\\u0435\\u0434 \\u0430\\u043b\\u0438\", \"duration\": 4.24}\n",
            "{\"id\": \"3d5e79e898a2d4deadda9f728fc8a3ec\", \"audio_filepath\": \"crowd/0/3d5e79e898a2d4deadda9f728fc8a3ec.wav\", \"text\": \"\\u043c\\u043e\\u0436\\u0435\\u0448\\u044c \\u043c\\u043d\\u0435 \\u043f\\u043e\\u0441\\u0442\\u0430\\u0432\\u0438\\u0442\\u044c \\u043c\\u0443\\u043b\\u044c\\u0442\\u0444\\u0438\\u043b\\u044c\\u043c \\u043a\\u0432\\u0430\\u0434\\u0440\\u0430\\u0442\\u043d\\u044b\\u0435 \\u0437\\u0432\\u0435\\u0440\\u044e\\u0448\\u043a\\u0438\", \"duration\": 4.22}\n",
            "{\"id\": \"da1727c120db7575744bd2740755c57d\", \"audio_filepath\": \"crowd/0/da1727c120db7575744bd2740755c57d.wav\", \"text\": \"\\u0441\\u0432\\u0430\\u0442\\u044b \\u043f\\u043e\\u0431\\u044b\\u0441\\u0442\\u0440\\u0435\\u0435 \\u0432\\u043a\\u043b\\u044e\\u0447\\u0438 \\u043f\\u043e\\u0436\\u0430\\u043b\\u0443\\u0439\\u0441\\u0442\\u0430\", \"duration\": 4.62}\n",
            "{\"id\": \"ad4bbc81eb33d17f2ff22cbbd23c4eac\", \"audio_filepath\": \"crowd/0/ad4bbc81eb33d17f2ff22cbbd23c4eac.wav\", \"text\": \"\\u0440\\u043e\\u043a\\u0435\\u0442\\u043c\\u0435\\u043d \\u0441\\u043c\\u043e\\u0442\\u0440\\u0435\\u0442\\u044c \\u0441\\u0435\\u0440\\u0438\\u0430\\u043b \\u0440\\u043e\\u043a\\u0435\\u0442\\u043c\\u0435\\u043d\", \"duration\": 4.82}\n"
          ]
        }
      ]
    },
    {
      "cell_type": "code",
      "source": [
        "! head /content/drive/MyDrive/vkr/test_golos/crowd/manifest_test_golos.jsonl"
      ],
      "metadata": {
        "colab": {
          "base_uri": "https://localhost:8080/"
        },
        "id": "RFCe8hNH9yIv",
        "outputId": "795fe7ec-2d79-43a5-d6fb-608b261657d5"
      },
      "execution_count": null,
      "outputs": [
        {
          "output_type": "stream",
          "name": "stdout",
          "text": [
            "{\"id\": \"e632f7d39c15e7edfc665b91e6f2071f\", \"audio_filepath\": \"files/e632f7d39c15e7edfc665b91e6f2071f.wav\", \"text\": \"\\u0430\\u0444\\u0438\\u043d\\u0430 \\u0432\\u043e\\u0441\\u043f\\u0440\\u043e\\u0438\\u0437\\u0432\\u0435\\u0434\\u0438 \\u043c\\u0443\\u0437\\u044b\\u043a\\u0443 \\u0432\\u043f\\u0435\\u0440\\u0435\\u043c\\u0435\\u0448\\u043a\\u0443\", \"duration\": 4.9}\n",
            "{\"id\": \"5db5df8bb9e3b6660b2a04b34d4a355d\", \"audio_filepath\": \"files/5db5df8bb9e3b6660b2a04b34d4a355d.wav\", \"text\": \"\\u043d\\u0430\\u0439\\u0442\\u0438 \\u0441\\u0435\\u0440\\u0438\\u0430\\u043b \\u0433\\u0440\\u0438\\u0433\\u043e\\u0440\\u0438\\u0439 \\u0440\", \"duration\": 3.652}\n",
            "{\"id\": \"2c471aedc6979109f28cd53c58f8c4fb\", \"audio_filepath\": \"files/2c471aedc6979109f28cd53c58f8c4fb.wav\", \"text\": \"\\u043f\\u0440\\u044f\\u043c\\u043e\\u0439 \\u044d\\u0444\\u0438\\u0440 \\u0430\\u043f\\u043b \\u043c\\u0430\\u043d\\u0447\\u0435\\u0441\\u0442\\u0435\\u0440 \\u044e\\u043d\\u0430\\u0439\\u0442\\u0435\\u0434 \\u0442\\u043e\\u0442\\u0442\\u0435\\u043d\\u0445\\u044d\\u043c\", \"duration\": 4.34175}\n",
            "{\"id\": \"756a137ee9debde4a008adc4a4121dc7\", \"audio_filepath\": \"files/756a137ee9debde4a008adc4a4121dc7.wav\", \"text\": \"\\u0438\\u043b\\u044c\\u0432\\u0438\\u0440\\u043e\\u043c \\u0438\\u0432\\u0430\\u043d\\u043e\\u0432\\u0438\\u0447\\u0435\\u043c \\u0432\\u043e\\u0440\\u043e\\u043d\\u0447\\u0438\\u0445\\u0438\\u043d\\u044b\\u043c\", \"duration\": 3.9}\n",
            "{\"id\": \"1ee3b00170123a6723a40e129b2f6bce\", \"audio_filepath\": \"files/1ee3b00170123a6723a40e129b2f6bce.wav\", \"text\": \"\\u043c\\u043e\\u0436\\u0435\\u0448\\u044c \\u043f\\u043e\\u043a\\u0430\\u0437\\u0430\\u0442\\u044c \\u043a\\u0438\\u043d\\u043e\\u0448\\u043a\\u0443 \\u0438\\u0441\\u0445\\u043e\\u0434\\u043d\\u044b\\u0439 \\u043a\\u043e\\u0434\", \"duration\": 3.32}\n",
            "{\"id\": \"35e8b07c1109b98209aded328fa6da0e\", \"audio_filepath\": \"files/35e8b07c1109b98209aded328fa6da0e.wav\", \"text\": \"\\u0438\\u0437\\u043c\\u0435\\u043d\\u0438\\u043b\\u0441\\u044f \\u043b\\u0438 \\u043a\\u0443\\u0440\\u0441 \\u0440\\u0443\\u0431\\u043b\\u044f \\u043a \\u0430\\u043c\\u0435\\u0440\\u0438\\u043a\\u0430\\u043d\\u0441\\u043a\\u043e\\u043c\\u0443 \\u0434\\u043e\\u043b\\u043b\\u0430\\u0440\\u0443 \\u0441\\u043e \\u0432\\u0447\\u0435\\u0440\\u0430\\u0448\\u043d\\u0435\\u0433\\u043e \\u0434\\u043d\\u044f\", \"duration\": 4.66}\n",
            "{\"id\": \"c35deaf94921ca67be23c19580a13397\", \"audio_filepath\": \"files/c35deaf94921ca67be23c19580a13397.wav\", \"text\": \"\\u043d\\u0430\\u0439\\u0442\\u0438 \\u0444\\u0438\\u043b\\u044c\\u043c \\u043f\\u043b\\u043e\\u0445\\u0438\\u0435 \\u043f\\u0430\\u0440\\u043d\\u0438 \\u043f\\u0435\\u0440\\u0432\\u0443\\u044e \\u0447\\u0430\\u0441\\u0442\\u044c\", \"duration\": 6.56}\n",
            "{\"id\": \"769fc2582dd82d1a3d4b7de9154d43b4\", \"audio_filepath\": \"files/769fc2582dd82d1a3d4b7de9154d43b4.wav\", \"text\": \"\\u044d\\u043f\\u0438\\u0437\\u043e\\u0434 \\u0442\\u0440\\u0438\\u0434\\u0446\\u0430\\u0442\\u044c \\u043e\\u0434\\u0438\\u043d \\u0441\\u0435\\u0437\\u043e\\u043d\\u0430 \\u0442\\u0440\\u0438\\u043d\\u0430\\u0434\\u0446\\u0430\\u0442\\u044c \\u0444\\u0438\\u043b\\u044c\\u043c\\u0430 \\u043b\\u044e\\u0434\\u0438\", \"duration\": 5.88}\n",
            "{\"id\": \"6a5c6ed155b43cdc77d2225084f6bd0a\", \"audio_filepath\": \"files/6a5c6ed155b43cdc77d2225084f6bd0a.wav\", \"text\": \"\\u043a\\u0443\\u043f\\u0438\\u0442\\u044c \\u043c\\u043e\\u044e\\u0449\\u0435\\u0435 \\u0441\\u0440\\u0435\\u0434\\u0441\\u0442\\u0432\\u043e\", \"duration\": 5.1}\n",
            "{\"id\": \"38bf4f3c89e0507ee921a669fec12e9d\", \"audio_filepath\": \"files/38bf4f3c89e0507ee921a669fec12e9d.wav\", \"text\": \"\\u043d\\u043e\\u043b\\u044c \\u0442\\u0440\\u0438\\u0441\\u0442\\u0430 \\u0432\\u043e\\u0441\\u0435\\u043c\\u044c \\u0442\\u0440\\u0438\\u0441\\u0442\\u0430 \\u0432\\u043e\\u0441\\u0435\\u043c\\u043d\\u0430\\u0434\\u0446\\u0430\\u0442\\u044c \\u0442\\u0440\\u0438\\u0441\\u0442\\u0430 \\u0447\\u0435\\u0442\\u044b\\u0440\\u0435 \\u0448\\u0435\\u0441\\u0442\\u044c\\u0434\\u0435\\u0441\\u044f\\u0442 \\u0434\\u0435\\u0432\\u044f\\u0442\\u044c\", \"duration\": 8.8231875}\n"
          ]
        }
      ]
    },
    {
      "cell_type": "code",
      "source": [
        "import json\n",
        "def build_manifest(manifest_rel, manifest_abs, test=False):\n",
        "    n = 0\n",
        "    manifest_path = os.path.split(os.path.abspath(manifest_rel))[0]\n",
        "    with open(manifest_rel, 'r') as fin:\n",
        "        with open(manifest_abs, 'w') as fout:\n",
        "            for line in fin:\n",
        "                n += 1\n",
        "                if n < 20000 and not test:\n",
        "                  continue\n",
        "                if n > 50000:\n",
        "                  break\n",
        "                metadata = json.loads(line)\n",
        "                if metadata['id'] == '375e547e51a71f9e18b811dd89244baf':\n",
        "                  # print('empty')\n",
        "                  continue\n",
        "                metadata[\"audio_filepath\"]=os.path.join(manifest_path, metadata[\"audio_filepath\"])\n",
        "                json.dump(metadata, fout)\n",
        "                fout.write('\\n')"
      ],
      "metadata": {
        "id": "LcwGiJy4-Uou"
      },
      "execution_count": null,
      "outputs": []
    },
    {
      "cell_type": "markdown",
      "source": [
        "Строим для них манифесты"
      ],
      "metadata": {
        "id": "yBX34Il_D80M"
      }
    },
    {
      "cell_type": "code",
      "source": [
        "# # Building Manifests\n",
        "# print(\"******\")\n",
        "# train_rel = '/content/drive/MyDrive/vkr/train_golos/crowd/manifest_train_golos.jsonl'\n",
        "# train_abs = '/content/drive/MyDrive/vkr/train_golos/crowd/train_golos.jsonl'\n",
        "# if not os.path.isfile(train_abs):\n",
        "#   build_manifest(train_rel, train_abs, False)\n",
        "# train_manifest = train_abs\n",
        "# print(\"train_manifest\", train_manifest)\n",
        "\n",
        "# test_rel = '/content/drive/MyDrive/vkr/test_golos/crowd/manifest_test_golos.jsonl'\n",
        "# test_abs = '/content/drive/MyDrive/vkr/test_golos/crowd/test_golos.jsonl'\n",
        "# if not os.path.isfile(test_abs):\n",
        "#   build_manifest(test_rel, test_abs, True)\n",
        "# test_manifest = test_abs\n",
        "# print(\"test_manifest\", test_manifest)"
      ],
      "metadata": {
        "id": "NVGqfrau_m_f"
      },
      "execution_count": null,
      "outputs": []
    },
    {
      "cell_type": "markdown",
      "source": [
        "Импортируем модель"
      ],
      "metadata": {
        "id": "0fHfvWMgECZ6"
      }
    },
    {
      "cell_type": "code",
      "source": [
        "model = nemo_asr.models.EncDecCTCModel.restore_from(os.path.join(data_dir, \"QuartzNet15x5_golos.nemo\"))"
      ],
      "metadata": {
        "colab": {
          "base_uri": "https://localhost:8080/"
        },
        "id": "LBHSjK_CAT3O",
        "outputId": "28a286cd-01a6-4490-fb5c-a20963b5537d"
      },
      "execution_count": null,
      "outputs": [
        {
          "output_type": "stream",
          "name": "stderr",
          "text": [
            "[NeMo W 2023-04-25 15:14:44 modelPT:161] If you intend to do training or fine-tuning, please call the ModelPT.setup_training_data() method and provide a valid configuration file to setup the train data loader.\n",
            "    Train config : \n",
            "    manifest_filepath: train/golos_and_mcv.jsonl\n",
            "    sample_rate: 16000\n",
            "    labels:\n",
            "    - ' '\n",
            "    - а\n",
            "    - б\n",
            "    - в\n",
            "    - г\n",
            "    - д\n",
            "    - е\n",
            "    - ж\n",
            "    - з\n",
            "    - и\n",
            "    - й\n",
            "    - к\n",
            "    - л\n",
            "    - м\n",
            "    - н\n",
            "    - о\n",
            "    - п\n",
            "    - р\n",
            "    - с\n",
            "    - т\n",
            "    - у\n",
            "    - ф\n",
            "    - х\n",
            "    - ц\n",
            "    - ч\n",
            "    - ш\n",
            "    - щ\n",
            "    - ъ\n",
            "    - ы\n",
            "    - ь\n",
            "    - э\n",
            "    - ю\n",
            "    - я\n",
            "    batch_size: 64\n",
            "    trim_silence: false\n",
            "    max_duration: 20.0\n",
            "    min_duration: 0.1\n",
            "    num_workers: 20\n",
            "    shuffle: true\n",
            "    is_tarred: false\n",
            "    tarred_audio_filepaths: null\n",
            "    tarred_shard_strategy: scatter\n",
            "    parser: ru\n",
            "    \n",
            "[NeMo W 2023-04-25 15:14:44 modelPT:168] If you intend to do validation, please call the ModelPT.setup_validation_data() or ModelPT.setup_multiple_validation_data() method and provide a valid configuration file to setup the validation data loader(s). \n",
            "    Validation config : \n",
            "    manifest_filepath:\n",
            "    - test/mcv/dev_ru.jsonl\n",
            "    - test/mcv/test_ru.jsonl\n",
            "    - test/crowd/crowd.jsonl\n",
            "    - test/farfield/farfield.jsonl\n",
            "    sample_rate: 16000\n",
            "    labels:\n",
            "    - ' '\n",
            "    - а\n",
            "    - б\n",
            "    - в\n",
            "    - г\n",
            "    - д\n",
            "    - е\n",
            "    - ж\n",
            "    - з\n",
            "    - и\n",
            "    - й\n",
            "    - к\n",
            "    - л\n",
            "    - м\n",
            "    - н\n",
            "    - о\n",
            "    - п\n",
            "    - р\n",
            "    - с\n",
            "    - т\n",
            "    - у\n",
            "    - ф\n",
            "    - х\n",
            "    - ц\n",
            "    - ч\n",
            "    - ш\n",
            "    - щ\n",
            "    - ъ\n",
            "    - ы\n",
            "    - ь\n",
            "    - э\n",
            "    - ю\n",
            "    - я\n",
            "    batch_size: 64\n",
            "    num_workers: 20\n",
            "    shuffle: false\n",
            "    parser: ru\n",
            "    \n",
            "[NeMo W 2023-04-25 15:14:44 modelPT:174] Please call the ModelPT.setup_test_data() or ModelPT.setup_multiple_test_data() method and provide a valid configuration file to setup the test data loader(s).\n",
            "    Test config : \n",
            "    manifest_filepath: test/mcv/test_ru.jsonl\n",
            "    sample_rate: 16000\n",
            "    labels:\n",
            "    - ' '\n",
            "    - а\n",
            "    - б\n",
            "    - в\n",
            "    - г\n",
            "    - д\n",
            "    - е\n",
            "    - ж\n",
            "    - з\n",
            "    - и\n",
            "    - й\n",
            "    - к\n",
            "    - л\n",
            "    - м\n",
            "    - н\n",
            "    - о\n",
            "    - п\n",
            "    - р\n",
            "    - с\n",
            "    - т\n",
            "    - у\n",
            "    - ф\n",
            "    - х\n",
            "    - ц\n",
            "    - ч\n",
            "    - ш\n",
            "    - щ\n",
            "    - ъ\n",
            "    - ы\n",
            "    - ь\n",
            "    - э\n",
            "    - ю\n",
            "    - я\n",
            "    batch_size: 64\n",
            "    shuffle: false\n",
            "    parser: ru\n",
            "    \n"
          ]
        },
        {
          "output_type": "stream",
          "name": "stdout",
          "text": [
            "[NeMo I 2023-04-25 15:14:44 features:287] PADDING: 16\n",
            "[NeMo I 2023-04-25 15:14:45 save_restore_connector:247] Model EncDecCTCModel was successfully restored from /content/drive/MyDrive/vkr/QuartzNet15x5_golos.nemo.\n"
          ]
        }
      ]
    },
    {
      "cell_type": "markdown",
      "source": [
        "Настраиваем параметры модели"
      ],
      "metadata": {
        "id": "Ia9rfHgwEKz-"
      }
    },
    {
      "cell_type": "code",
      "source": [
        "import copy\n",
        "from omegaconf import DictConfig\n",
        "test_manifest = '/content/drive/MyDrive/vkr/test_golos/crowd/test_golos.jsonl'\n",
        "train_manifest = '/content/drive/MyDrive/vkr/train_golos/crowd/train_golos.jsonl'\n",
        "batch = 8\n",
        "\n",
        "params_model = model._cfg\n",
        "params_model['train_ds']['parser'] = 'base'\n",
        "params_model['validation_ds']['parser'] = 'base'\n",
        "params_model['test_ds']['parser'] = 'base'\n",
        "\n",
        "params_model['train_ds']['manifest_filepath'] = train_manifest\n",
        "params_model['train_ds']['batch_size'] = batch\n",
        "\n",
        "params_model['test_ds']['manifest_filepath'] = test_manifest\n",
        "params_model['test_ds']['batch_size'] = batch\n",
        "\n",
        "params_model['validation_ds']['manifest_filepath'] = test_manifest\n",
        "params_model['validation_ds']['batch_size'] = batch"
      ],
      "metadata": {
        "id": "yws3j3RiCPSl"
      },
      "execution_count": null,
      "outputs": []
    },
    {
      "cell_type": "code",
      "source": [
        "model.setup_training_data(train_data_config=params_model['train_ds'])\n",
        "model.setup_test_data(test_data_config=params_model['test_ds'])\n",
        "model.setup_validation_data(val_data_config=params_model['validation_ds'])\n",
        "\n",
        "lr = 0.0005\n",
        "\n",
        "params_optim = copy.deepcopy(params_model['optim'])\n",
        "params_optim['lr'] = lr\n",
        "model.setup_optimization(optim_config=DictConfig(params_optim))"
      ],
      "metadata": {
        "colab": {
          "base_uri": "https://localhost:8080/"
        },
        "id": "xuTcwyb8CPtJ",
        "outputId": "71949c67-a174-4e77-e788-13d1b3c5757f"
      },
      "execution_count": null,
      "outputs": [
        {
          "output_type": "stream",
          "name": "stdout",
          "text": [
            "[NeMo I 2023-04-25 15:14:56 collections:193] Dataset loaded with 13115 files totalling 9.28 hours\n",
            "[NeMo I 2023-04-25 15:14:56 collections:194] 0 files were filtered totalling 0.00 hours\n",
            "[NeMo I 2023-04-25 15:14:57 collections:193] Dataset loaded with 3555 files totalling 3.99 hours\n",
            "[NeMo I 2023-04-25 15:14:57 collections:194] 0 files were filtered totalling 0.00 hours\n",
            "[NeMo I 2023-04-25 15:14:58 collections:193] Dataset loaded with 3555 files totalling 3.99 hours\n",
            "[NeMo I 2023-04-25 15:14:58 collections:194] 0 files were filtered totalling 0.00 hours\n"
          ]
        },
        {
          "output_type": "stream",
          "name": "stderr",
          "text": [
            "[NeMo W 2023-04-25 15:14:58 modelPT:611] Trainer wasn't specified in model constructor. Make sure that you really wanted it.\n"
          ]
        },
        {
          "output_type": "stream",
          "name": "stdout",
          "text": [
            "[NeMo I 2023-04-25 15:14:58 modelPT:722] Optimizer config = Novograd (\n",
            "    Parameter Group 0\n",
            "        amsgrad: False\n",
            "        betas: [0.9, 0.98]\n",
            "        eps: 1e-08\n",
            "        grad_averaging: False\n",
            "        lr: 0.0005\n",
            "        weight_decay: 0.001\n",
            "    )\n"
          ]
        },
        {
          "output_type": "stream",
          "name": "stderr",
          "text": [
            "[NeMo W 2023-04-25 15:14:58 lr_scheduler:890] Neither `max_steps` nor `iters_per_batch` were provided to `optim.sched`, cannot compute effective `max_steps` !\n",
            "    Scheduler will not be instantiated !\n"
          ]
        },
        {
          "output_type": "execute_result",
          "data": {
            "text/plain": [
              "(Novograd (\n",
              " Parameter Group 0\n",
              "     amsgrad: False\n",
              "     betas: [0.9, 0.98]\n",
              "     eps: 1e-08\n",
              "     grad_averaging: False\n",
              "     lr: 0.0005\n",
              "     weight_decay: 0.001\n",
              " ),\n",
              " None)"
            ]
          },
          "metadata": {},
          "execution_count": 50
        }
      ]
    },
    {
      "cell_type": "markdown",
      "source": [
        "Посмотрим на качество модели до дообучения"
      ],
      "metadata": {
        "id": "J0nMzCO-E-zL"
      }
    },
    {
      "cell_type": "code",
      "source": [
        "# перекидываем модель на GPU\n",
        "model.cuda()\n",
        "\n",
        "# Оценивать качесвто модели будем по метрике Word Error Rate=numerator/denumerator\n",
        "wer_nums = []\n",
        "wer_denoms = []\n",
        "# Тут у нас проходит итерация по всем естовым батчам, которые содержат следующие компоненты\n",
        "# (audio_signal, audio_signal_length, transcript_tokens, transcript_length)\n",
        "for test_batch in model.test_dataloader():\n",
        "        test_batch = [x.cuda() for x in test_batch]\n",
        "        targets = test_batch[2]\n",
        "        targets_lengths = test_batch[3]        \n",
        "        log_probs, encoded_len, greedy_predictions = model(\n",
        "            input_signal=test_batch[0], input_signal_length=test_batch[1]\n",
        "        )\n",
        "        model._wer.update(greedy_predictions, targets, targets_lengths)\n",
        "        _, wer_num, wer_denom = model._wer.compute()\n",
        "        model._wer.reset()\n",
        "        wer_nums.append(wer_num.detach().cpu().numpy())\n",
        "        wer_denoms.append(wer_denom.detach().cpu().numpy())\n",
        "        # освобождаем GPU память\n",
        "        del test_batch, log_probs, targets, targets_lengths, encoded_len, greedy_predictions\n",
        "# Считаем метрику\n",
        "print(f\"WER = {sum(wer_nums)/sum(wer_denoms)}\")\n",
        "print(f'WER до дообучения составляет {sum(wer_nums)/sum(wer_denoms)}')"
      ],
      "metadata": {
        "id": "jmXmqagl0461",
        "colab": {
          "base_uri": "https://localhost:8080/"
        },
        "outputId": "9dc9a45e-b7e9-4d9d-d893-3938fb8cf894"
      },
      "execution_count": null,
      "outputs": [
        {
          "output_type": "stream",
          "name": "stdout",
          "text": [
            "WER = 0.19798002343619217\n",
            "WER до дообучения составляет 0.19798002343619217\n"
          ]
        }
      ]
    },
    {
      "cell_type": "markdown",
      "source": [
        "Запускаем обучение модели на наших данных"
      ],
      "metadata": {
        "id": "dkiRdrXJJjO8"
      }
    },
    {
      "cell_type": "code",
      "source": [
        "import pytorch_lightning as pl\n",
        "trainer = pl.Trainer(gpus=1, max_epochs=5, precision=16)"
      ],
      "metadata": {
        "colab": {
          "base_uri": "https://localhost:8080/"
        },
        "id": "lAFE_VDwu9cf",
        "outputId": "00e815a3-860c-441f-ba74-1b16d09db310"
      },
      "execution_count": null,
      "outputs": [
        {
          "output_type": "stream",
          "name": "stderr",
          "text": [
            "[NeMo W 2023-04-25 14:28:35 nemo_logging:349] /usr/local/lib/python3.9/dist-packages/pytorch_lightning/trainer/connectors/accelerator_connector.py:478: LightningDeprecationWarning: Setting `Trainer(gpus=1)` is deprecated in v1.7 and will be removed in v2.0. Please use `Trainer(accelerator='gpu', devices=1)` instead.\n",
            "      rank_zero_deprecation(\n",
            "    \n",
            "INFO:pytorch_lightning.utilities.rank_zero:Using 16bit None Automatic Mixed Precision (AMP)\n",
            "INFO:pytorch_lightning.utilities.rank_zero:GPU available: True (cuda), used: True\n",
            "INFO:pytorch_lightning.utilities.rank_zero:TPU available: False, using: 0 TPU cores\n",
            "INFO:pytorch_lightning.utilities.rank_zero:IPU available: False, using: 0 IPUs\n",
            "INFO:pytorch_lightning.utilities.rank_zero:HPU available: False, using: 0 HPUs\n"
          ]
        }
      ]
    },
    {
      "cell_type": "code",
      "source": [
        "trainer.fit(model)"
      ],
      "metadata": {
        "colab": {
          "base_uri": "https://localhost:8080/",
          "height": 669,
          "referenced_widgets": [
            "0420825111b54fdb883994fe7447cd1f",
            "5a7e49d7f4214351b8f91e335d65b313",
            "e6ceef40eaad40a68a8c80636612bf35",
            "f5ba3c7b506049b4bf34734e84908cba",
            "8400aa1bbfc74cd38884d43d685c7ac5",
            "a8a6519dac254c3e870f3be013653b56",
            "b520ff5ebd604624a1928596247821ae",
            "7d5a51db6df74b34955dd3dfc4a9e728",
            "06b6d77207514b5caf13f0e4023a1f7c",
            "68bf6801e15c42f99585b6ad5498c2ff",
            "7d953b9651d34f648135315bffab8eba",
            "19062dc4373845b6a07ef63c3699e9d6",
            "3af0c01d9ca84298a30f82664a0b4455",
            "1d3d383842e54845aa9cae1683690e6c",
            "c9ad568b22304160b742fca8fcf2e17d",
            "09bf5db55b894889aea33d42235990b0",
            "6ee5aaf0bc684e478ec228da9328a9cb",
            "db6ace4fac7e48538ba2db3939c081f7",
            "7274f9cdc7a44472b9d67e66332a0667",
            "37cac7a884244410b7c2b97948999d6c",
            "c71a3179095646f0b2eb6b059343608b",
            "b51415f44b7c4ddfa8ee43562990863d",
            "8c4e8c225aef4617a879cbb4971e6f82",
            "76e2a7e2271944da874cebaf553f799d",
            "398b235197764dc0b4dd39d7bcc86894",
            "d300ddceb1bc47818a5bf3ffb1788755",
            "d7d09e750b4d4a36b75d1503f3186061",
            "b324a29413fa447dbfc649fdd7baff5b",
            "abd06dc7a162460a843c0f6c5265cfa7",
            "0bfc66542a884af9bb97df9c66b33a79",
            "87ff70fa95564e63a68de5bd4b618c27",
            "641ebf407f3d48428b7d9fb8aa447f10",
            "83ff79320663415f869397da90526ca6",
            "7685213584a0496ebc5ac447d3f33d25",
            "04db4b5548f34a6d8984b20ced9d4d5e",
            "b784a39c695d452794964acccdc4e3d4",
            "11d47af773a743d298154d32aee62c7c",
            "c9a2a8451dbb46a6b1f3bc68c325671e",
            "f868c30f9c9747e6bf040d077eee2669",
            "994c76c52f794b7892a5604ff9bd9403",
            "23f5681889a444dd9272982aa559d721",
            "68b0c22d811443549162d1b79ce4d469",
            "16e31df6c1cc4004924f26ee0f59339e",
            "98e355e2389c4e9c8117cd1e13dba21e",
            "9f4cbdf189c64c96bbe4427f11b2efc4",
            "5ab0e16354d8460581e72f619585c785",
            "0793db64c28545e0ad01328a556c9d5a",
            "3a063daa42c74229805561f65f192bff",
            "30c42481dfab47d490adc1d9c685ee7a",
            "0e39f308ecf24fbe887bf0f08972275d",
            "99d178cdc13a47328a6148440b1c8384",
            "54bb5c664add48b6897d8d991c67232c",
            "045a58cb153c475eacf374c516c93530",
            "71999be8a29f4599a0b2538c74728f35",
            "2b56d5ad35ba4f228bb034c2cefbc18e",
            "7365d30aad574c63814fd865ffe2239f",
            "29c0b4c5c08c4da2a3436cdc23c9aa2f",
            "81a35246e5274a3698c9796e2ce9e4b3",
            "c925310a054749aab2e4fb87771b0e75",
            "7b1384d563db4f058b51d6f5ab82b1f6",
            "f3f6473ab4bd48cbbde785fba6c509fd",
            "57e25a4ff5924aef8db5e93971e4f57e",
            "f7705b4f61f14626b1291e9893c95133",
            "1876368b58504653a4cbd4b05779df45",
            "23735137ecbd4c22b16d27fe77e30d90",
            "ebb7b0b08f124290a31556991b54e001",
            "fd3189e1ee1a4cc9819ee84cf3967f92",
            "810462f49f6541308b915128fecdd936",
            "cd1a4cc4da6b4d93bd3e8851e98772d8",
            "8f0c45f798664834986892e23c65b1b6",
            "eeb888320cd04d478e398f59e42fb5ff",
            "86b69db684de4385b99007d55d53acbb",
            "71fa5eedbdeb40a2acce212ae1c0b03b",
            "772b04f2da00483d855e70bead44f56c",
            "32e7249f75a1418ba57a84de876afa42",
            "2538cfe76f1441748b61a245b3df7dfa",
            "72e47486b9244675bd64c96e8b6adae1"
          ]
        },
        "id": "mZv8etQW014O",
        "outputId": "034b6263-7292-45e0-db6b-0fc62512b67a"
      },
      "execution_count": null,
      "outputs": [
        {
          "output_type": "stream",
          "name": "stderr",
          "text": [
            "INFO:pytorch_lightning.accelerators.cuda:LOCAL_RANK: 0 - CUDA_VISIBLE_DEVICES: [0]\n"
          ]
        },
        {
          "output_type": "stream",
          "name": "stdout",
          "text": [
            "[NeMo I 2023-04-25 14:28:36 modelPT:722] Optimizer config = Novograd (\n",
            "    Parameter Group 0\n",
            "        amsgrad: False\n",
            "        betas: [0.9, 0.98]\n",
            "        eps: 1e-08\n",
            "        grad_averaging: False\n",
            "        lr: 0.0005\n",
            "        weight_decay: 0.001\n",
            "    )\n",
            "[NeMo I 2023-04-25 14:28:36 lr_scheduler:910] Scheduler \"<nemo.core.optim.lr_scheduler.CosineAnnealing object at 0x7feceacdd370>\" \n",
            "    will be used during training (effective maximum steps = 8200) - \n",
            "    Parameters : \n",
            "    (warmup_steps: 500\n",
            "    warmup_ratio: null\n",
            "    min_lr: 0.0\n",
            "    last_epoch: -1\n",
            "    max_steps: 8200\n",
            "    )\n"
          ]
        },
        {
          "output_type": "stream",
          "name": "stderr",
          "text": [
            "INFO:pytorch_lightning.callbacks.model_summary:\n",
            "  | Name              | Type                              | Params\n",
            "------------------------------------------------------------------------\n",
            "0 | preprocessor      | AudioToMelSpectrogramPreprocessor | 0     \n",
            "1 | encoder           | ConvASREncoder                    | 18.9 M\n",
            "2 | decoder           | ConvASRDecoder                    | 34.9 K\n",
            "3 | loss              | CTCLoss                           | 0     \n",
            "4 | spec_augmentation | SpectrogramAugmentation           | 0     \n",
            "5 | _wer              | WER                               | 0     \n",
            "------------------------------------------------------------------------\n",
            "18.9 M    Trainable params\n",
            "0         Non-trainable params\n",
            "18.9 M    Total params\n",
            "37.859    Total estimated model params size (MB)\n"
          ]
        },
        {
          "output_type": "display_data",
          "data": {
            "text/plain": [
              "Sanity Checking: 0it [00:00, ?it/s]"
            ],
            "application/vnd.jupyter.widget-view+json": {
              "version_major": 2,
              "version_minor": 0,
              "model_id": "0420825111b54fdb883994fe7447cd1f"
            }
          },
          "metadata": {}
        },
        {
          "output_type": "display_data",
          "data": {
            "text/plain": [
              "Training: 0it [00:00, ?it/s]"
            ],
            "application/vnd.jupyter.widget-view+json": {
              "version_major": 2,
              "version_minor": 0,
              "model_id": "19062dc4373845b6a07ef63c3699e9d6"
            }
          },
          "metadata": {}
        },
        {
          "output_type": "display_data",
          "data": {
            "text/plain": [
              "Validation: 0it [00:00, ?it/s]"
            ],
            "application/vnd.jupyter.widget-view+json": {
              "version_major": 2,
              "version_minor": 0,
              "model_id": "8c4e8c225aef4617a879cbb4971e6f82"
            }
          },
          "metadata": {}
        },
        {
          "output_type": "display_data",
          "data": {
            "text/plain": [
              "Validation: 0it [00:00, ?it/s]"
            ],
            "application/vnd.jupyter.widget-view+json": {
              "version_major": 2,
              "version_minor": 0,
              "model_id": "7685213584a0496ebc5ac447d3f33d25"
            }
          },
          "metadata": {}
        },
        {
          "output_type": "display_data",
          "data": {
            "text/plain": [
              "Validation: 0it [00:00, ?it/s]"
            ],
            "application/vnd.jupyter.widget-view+json": {
              "version_major": 2,
              "version_minor": 0,
              "model_id": "9f4cbdf189c64c96bbe4427f11b2efc4"
            }
          },
          "metadata": {}
        },
        {
          "output_type": "display_data",
          "data": {
            "text/plain": [
              "Validation: 0it [00:00, ?it/s]"
            ],
            "application/vnd.jupyter.widget-view+json": {
              "version_major": 2,
              "version_minor": 0,
              "model_id": "7365d30aad574c63814fd865ffe2239f"
            }
          },
          "metadata": {}
        },
        {
          "output_type": "display_data",
          "data": {
            "text/plain": [
              "Validation: 0it [00:00, ?it/s]"
            ],
            "application/vnd.jupyter.widget-view+json": {
              "version_major": 2,
              "version_minor": 0,
              "model_id": "fd3189e1ee1a4cc9819ee84cf3967f92"
            }
          },
          "metadata": {}
        },
        {
          "output_type": "stream",
          "name": "stderr",
          "text": [
            "INFO:pytorch_lightning.utilities.rank_zero:`Trainer.fit` stopped: `max_epochs=5` reached.\n"
          ]
        }
      ]
    },
    {
      "cell_type": "code",
      "source": [
        "model.save_to('content/drive/MyDrive/vkr/QuartzNet15x5_golos.nemo')"
      ],
      "metadata": {
        "id": "DEvkEOis0Qmw"
      },
      "execution_count": null,
      "outputs": []
    },
    {
      "cell_type": "code",
      "source": [
        "# перекидываем модель на GPU\n",
        "model.cuda()\n",
        "\n",
        "# Оценивать качесвто модели будем по метрике Word Error Rate=numerator/denumerator\n",
        "wer_nums = []\n",
        "wer_denoms = []\n",
        "# Тут у нас проходит итерация по всем естовым батчам, которые содержат следующие компоненты\n",
        "# (audio_signal, audio_signal_length, transcript_tokens, transcript_length)\n",
        "for test_batch in model.test_dataloader():\n",
        "        test_batch = [x.cuda() for x in test_batch]\n",
        "        targets = test_batch[2]\n",
        "        targets_lengths = test_batch[3]        \n",
        "        log_probs, encoded_len, greedy_predictions = model(\n",
        "            input_signal=test_batch[0], input_signal_length=test_batch[1]\n",
        "        )\n",
        "        model._wer.update(greedy_predictions, targets, targets_lengths)\n",
        "        _, wer_num, wer_denom = model._wer.compute()\n",
        "        model._wer.reset()\n",
        "        wer_nums.append(wer_num.detach().cpu().numpy())\n",
        "        wer_denoms.append(wer_denom.detach().cpu().numpy())\n",
        "        # освобождаем GPU память\n",
        "        del test_batch, log_probs, targets, targets_lengths, encoded_len, greedy_predictions\n",
        "# Считаем метрику\n",
        "print(f\"WER = {sum(wer_nums)/sum(wer_denoms)}\")\n",
        "print(f'WER после дообучения составляет {sum(wer_nums)/sum(wer_denoms)}')"
      ],
      "metadata": {
        "id": "U8q1fhQSgO-j",
        "colab": {
          "base_uri": "https://localhost:8080/"
        },
        "outputId": "52828891-b684-4acc-a892-b639c4fc52f6"
      },
      "execution_count": null,
      "outputs": [
        {
          "output_type": "stream",
          "name": "stdout",
          "text": [
            "WER = 0.10473745884716254\n",
            "WER после дообучения составляет 0.10473745884716254\n"
          ]
        }
      ]
    },
    {
      "cell_type": "code",
      "source": [],
      "metadata": {
        "id": "p0fTFHFR8gjB"
      },
      "execution_count": null,
      "outputs": []
    }
  ],
  "metadata": {
    "colab": {
      "provenance": []
    },
    "gpuClass": "standard",
    "kernelspec": {
      "display_name": "Python 3",
      "language": "python",
      "name": "python3"
    },
    "language_info": {
      "codemirror_mode": {
        "name": "ipython",
        "version": 3
      },
      "file_extension": ".py",
      "mimetype": "text/x-python",
      "name": "python",
      "nbconvert_exporter": "python",
      "pygments_lexer": "ipython3",
      "version": "3.8.5"
    },
    "widgets": {
      "application/vnd.jupyter.widget-state+json": {
        "0420825111b54fdb883994fe7447cd1f": {
          "model_module": "@jupyter-widgets/controls",
          "model_name": "HBoxModel",
          "model_module_version": "1.5.0",
          "state": {
            "_dom_classes": [],
            "_model_module": "@jupyter-widgets/controls",
            "_model_module_version": "1.5.0",
            "_model_name": "HBoxModel",
            "_view_count": null,
            "_view_module": "@jupyter-widgets/controls",
            "_view_module_version": "1.5.0",
            "_view_name": "HBoxView",
            "box_style": "",
            "children": [
              "IPY_MODEL_5a7e49d7f4214351b8f91e335d65b313",
              "IPY_MODEL_e6ceef40eaad40a68a8c80636612bf35",
              "IPY_MODEL_f5ba3c7b506049b4bf34734e84908cba"
            ],
            "layout": "IPY_MODEL_8400aa1bbfc74cd38884d43d685c7ac5"
          }
        },
        "5a7e49d7f4214351b8f91e335d65b313": {
          "model_module": "@jupyter-widgets/controls",
          "model_name": "HTMLModel",
          "model_module_version": "1.5.0",
          "state": {
            "_dom_classes": [],
            "_model_module": "@jupyter-widgets/controls",
            "_model_module_version": "1.5.0",
            "_model_name": "HTMLModel",
            "_view_count": null,
            "_view_module": "@jupyter-widgets/controls",
            "_view_module_version": "1.5.0",
            "_view_name": "HTMLView",
            "description": "",
            "description_tooltip": null,
            "layout": "IPY_MODEL_a8a6519dac254c3e870f3be013653b56",
            "placeholder": "​",
            "style": "IPY_MODEL_b520ff5ebd604624a1928596247821ae",
            "value": "Sanity Checking DataLoader 0: 100%"
          }
        },
        "e6ceef40eaad40a68a8c80636612bf35": {
          "model_module": "@jupyter-widgets/controls",
          "model_name": "FloatProgressModel",
          "model_module_version": "1.5.0",
          "state": {
            "_dom_classes": [],
            "_model_module": "@jupyter-widgets/controls",
            "_model_module_version": "1.5.0",
            "_model_name": "FloatProgressModel",
            "_view_count": null,
            "_view_module": "@jupyter-widgets/controls",
            "_view_module_version": "1.5.0",
            "_view_name": "ProgressView",
            "bar_style": "",
            "description": "",
            "description_tooltip": null,
            "layout": "IPY_MODEL_7d5a51db6df74b34955dd3dfc4a9e728",
            "max": 2,
            "min": 0,
            "orientation": "horizontal",
            "style": "IPY_MODEL_06b6d77207514b5caf13f0e4023a1f7c",
            "value": 2
          }
        },
        "f5ba3c7b506049b4bf34734e84908cba": {
          "model_module": "@jupyter-widgets/controls",
          "model_name": "HTMLModel",
          "model_module_version": "1.5.0",
          "state": {
            "_dom_classes": [],
            "_model_module": "@jupyter-widgets/controls",
            "_model_module_version": "1.5.0",
            "_model_name": "HTMLModel",
            "_view_count": null,
            "_view_module": "@jupyter-widgets/controls",
            "_view_module_version": "1.5.0",
            "_view_name": "HTMLView",
            "description": "",
            "description_tooltip": null,
            "layout": "IPY_MODEL_68bf6801e15c42f99585b6ad5498c2ff",
            "placeholder": "​",
            "style": "IPY_MODEL_7d953b9651d34f648135315bffab8eba",
            "value": " 2/2 [00:00&lt;00:00,  6.80it/s]"
          }
        },
        "8400aa1bbfc74cd38884d43d685c7ac5": {
          "model_module": "@jupyter-widgets/base",
          "model_name": "LayoutModel",
          "model_module_version": "1.2.0",
          "state": {
            "_model_module": "@jupyter-widgets/base",
            "_model_module_version": "1.2.0",
            "_model_name": "LayoutModel",
            "_view_count": null,
            "_view_module": "@jupyter-widgets/base",
            "_view_module_version": "1.2.0",
            "_view_name": "LayoutView",
            "align_content": null,
            "align_items": null,
            "align_self": null,
            "border": null,
            "bottom": null,
            "display": "inline-flex",
            "flex": null,
            "flex_flow": "row wrap",
            "grid_area": null,
            "grid_auto_columns": null,
            "grid_auto_flow": null,
            "grid_auto_rows": null,
            "grid_column": null,
            "grid_gap": null,
            "grid_row": null,
            "grid_template_areas": null,
            "grid_template_columns": null,
            "grid_template_rows": null,
            "height": null,
            "justify_content": null,
            "justify_items": null,
            "left": null,
            "margin": null,
            "max_height": null,
            "max_width": null,
            "min_height": null,
            "min_width": null,
            "object_fit": null,
            "object_position": null,
            "order": null,
            "overflow": null,
            "overflow_x": null,
            "overflow_y": null,
            "padding": null,
            "right": null,
            "top": null,
            "visibility": "hidden",
            "width": "100%"
          }
        },
        "a8a6519dac254c3e870f3be013653b56": {
          "model_module": "@jupyter-widgets/base",
          "model_name": "LayoutModel",
          "model_module_version": "1.2.0",
          "state": {
            "_model_module": "@jupyter-widgets/base",
            "_model_module_version": "1.2.0",
            "_model_name": "LayoutModel",
            "_view_count": null,
            "_view_module": "@jupyter-widgets/base",
            "_view_module_version": "1.2.0",
            "_view_name": "LayoutView",
            "align_content": null,
            "align_items": null,
            "align_self": null,
            "border": null,
            "bottom": null,
            "display": null,
            "flex": null,
            "flex_flow": null,
            "grid_area": null,
            "grid_auto_columns": null,
            "grid_auto_flow": null,
            "grid_auto_rows": null,
            "grid_column": null,
            "grid_gap": null,
            "grid_row": null,
            "grid_template_areas": null,
            "grid_template_columns": null,
            "grid_template_rows": null,
            "height": null,
            "justify_content": null,
            "justify_items": null,
            "left": null,
            "margin": null,
            "max_height": null,
            "max_width": null,
            "min_height": null,
            "min_width": null,
            "object_fit": null,
            "object_position": null,
            "order": null,
            "overflow": null,
            "overflow_x": null,
            "overflow_y": null,
            "padding": null,
            "right": null,
            "top": null,
            "visibility": null,
            "width": null
          }
        },
        "b520ff5ebd604624a1928596247821ae": {
          "model_module": "@jupyter-widgets/controls",
          "model_name": "DescriptionStyleModel",
          "model_module_version": "1.5.0",
          "state": {
            "_model_module": "@jupyter-widgets/controls",
            "_model_module_version": "1.5.0",
            "_model_name": "DescriptionStyleModel",
            "_view_count": null,
            "_view_module": "@jupyter-widgets/base",
            "_view_module_version": "1.2.0",
            "_view_name": "StyleView",
            "description_width": ""
          }
        },
        "7d5a51db6df74b34955dd3dfc4a9e728": {
          "model_module": "@jupyter-widgets/base",
          "model_name": "LayoutModel",
          "model_module_version": "1.2.0",
          "state": {
            "_model_module": "@jupyter-widgets/base",
            "_model_module_version": "1.2.0",
            "_model_name": "LayoutModel",
            "_view_count": null,
            "_view_module": "@jupyter-widgets/base",
            "_view_module_version": "1.2.0",
            "_view_name": "LayoutView",
            "align_content": null,
            "align_items": null,
            "align_self": null,
            "border": null,
            "bottom": null,
            "display": null,
            "flex": "2",
            "flex_flow": null,
            "grid_area": null,
            "grid_auto_columns": null,
            "grid_auto_flow": null,
            "grid_auto_rows": null,
            "grid_column": null,
            "grid_gap": null,
            "grid_row": null,
            "grid_template_areas": null,
            "grid_template_columns": null,
            "grid_template_rows": null,
            "height": null,
            "justify_content": null,
            "justify_items": null,
            "left": null,
            "margin": null,
            "max_height": null,
            "max_width": null,
            "min_height": null,
            "min_width": null,
            "object_fit": null,
            "object_position": null,
            "order": null,
            "overflow": null,
            "overflow_x": null,
            "overflow_y": null,
            "padding": null,
            "right": null,
            "top": null,
            "visibility": null,
            "width": null
          }
        },
        "06b6d77207514b5caf13f0e4023a1f7c": {
          "model_module": "@jupyter-widgets/controls",
          "model_name": "ProgressStyleModel",
          "model_module_version": "1.5.0",
          "state": {
            "_model_module": "@jupyter-widgets/controls",
            "_model_module_version": "1.5.0",
            "_model_name": "ProgressStyleModel",
            "_view_count": null,
            "_view_module": "@jupyter-widgets/base",
            "_view_module_version": "1.2.0",
            "_view_name": "StyleView",
            "bar_color": null,
            "description_width": ""
          }
        },
        "68bf6801e15c42f99585b6ad5498c2ff": {
          "model_module": "@jupyter-widgets/base",
          "model_name": "LayoutModel",
          "model_module_version": "1.2.0",
          "state": {
            "_model_module": "@jupyter-widgets/base",
            "_model_module_version": "1.2.0",
            "_model_name": "LayoutModel",
            "_view_count": null,
            "_view_module": "@jupyter-widgets/base",
            "_view_module_version": "1.2.0",
            "_view_name": "LayoutView",
            "align_content": null,
            "align_items": null,
            "align_self": null,
            "border": null,
            "bottom": null,
            "display": null,
            "flex": null,
            "flex_flow": null,
            "grid_area": null,
            "grid_auto_columns": null,
            "grid_auto_flow": null,
            "grid_auto_rows": null,
            "grid_column": null,
            "grid_gap": null,
            "grid_row": null,
            "grid_template_areas": null,
            "grid_template_columns": null,
            "grid_template_rows": null,
            "height": null,
            "justify_content": null,
            "justify_items": null,
            "left": null,
            "margin": null,
            "max_height": null,
            "max_width": null,
            "min_height": null,
            "min_width": null,
            "object_fit": null,
            "object_position": null,
            "order": null,
            "overflow": null,
            "overflow_x": null,
            "overflow_y": null,
            "padding": null,
            "right": null,
            "top": null,
            "visibility": null,
            "width": null
          }
        },
        "7d953b9651d34f648135315bffab8eba": {
          "model_module": "@jupyter-widgets/controls",
          "model_name": "DescriptionStyleModel",
          "model_module_version": "1.5.0",
          "state": {
            "_model_module": "@jupyter-widgets/controls",
            "_model_module_version": "1.5.0",
            "_model_name": "DescriptionStyleModel",
            "_view_count": null,
            "_view_module": "@jupyter-widgets/base",
            "_view_module_version": "1.2.0",
            "_view_name": "StyleView",
            "description_width": ""
          }
        },
        "19062dc4373845b6a07ef63c3699e9d6": {
          "model_module": "@jupyter-widgets/controls",
          "model_name": "HBoxModel",
          "model_module_version": "1.5.0",
          "state": {
            "_dom_classes": [],
            "_model_module": "@jupyter-widgets/controls",
            "_model_module_version": "1.5.0",
            "_model_name": "HBoxModel",
            "_view_count": null,
            "_view_module": "@jupyter-widgets/controls",
            "_view_module_version": "1.5.0",
            "_view_name": "HBoxView",
            "box_style": "",
            "children": [
              "IPY_MODEL_3af0c01d9ca84298a30f82664a0b4455",
              "IPY_MODEL_1d3d383842e54845aa9cae1683690e6c",
              "IPY_MODEL_c9ad568b22304160b742fca8fcf2e17d"
            ],
            "layout": "IPY_MODEL_09bf5db55b894889aea33d42235990b0"
          }
        },
        "3af0c01d9ca84298a30f82664a0b4455": {
          "model_module": "@jupyter-widgets/controls",
          "model_name": "HTMLModel",
          "model_module_version": "1.5.0",
          "state": {
            "_dom_classes": [],
            "_model_module": "@jupyter-widgets/controls",
            "_model_module_version": "1.5.0",
            "_model_name": "HTMLModel",
            "_view_count": null,
            "_view_module": "@jupyter-widgets/controls",
            "_view_module_version": "1.5.0",
            "_view_name": "HTMLView",
            "description": "",
            "description_tooltip": null,
            "layout": "IPY_MODEL_6ee5aaf0bc684e478ec228da9328a9cb",
            "placeholder": "​",
            "style": "IPY_MODEL_db6ace4fac7e48538ba2db3939c081f7",
            "value": "Epoch 4: 100%"
          }
        },
        "1d3d383842e54845aa9cae1683690e6c": {
          "model_module": "@jupyter-widgets/controls",
          "model_name": "FloatProgressModel",
          "model_module_version": "1.5.0",
          "state": {
            "_dom_classes": [],
            "_model_module": "@jupyter-widgets/controls",
            "_model_module_version": "1.5.0",
            "_model_name": "FloatProgressModel",
            "_view_count": null,
            "_view_module": "@jupyter-widgets/controls",
            "_view_module_version": "1.5.0",
            "_view_name": "ProgressView",
            "bar_style": "success",
            "description": "",
            "description_tooltip": null,
            "layout": "IPY_MODEL_7274f9cdc7a44472b9d67e66332a0667",
            "max": 2085,
            "min": 0,
            "orientation": "horizontal",
            "style": "IPY_MODEL_37cac7a884244410b7c2b97948999d6c",
            "value": 2085
          }
        },
        "c9ad568b22304160b742fca8fcf2e17d": {
          "model_module": "@jupyter-widgets/controls",
          "model_name": "HTMLModel",
          "model_module_version": "1.5.0",
          "state": {
            "_dom_classes": [],
            "_model_module": "@jupyter-widgets/controls",
            "_model_module_version": "1.5.0",
            "_model_name": "HTMLModel",
            "_view_count": null,
            "_view_module": "@jupyter-widgets/controls",
            "_view_module_version": "1.5.0",
            "_view_name": "HTMLView",
            "description": "",
            "description_tooltip": null,
            "layout": "IPY_MODEL_c71a3179095646f0b2eb6b059343608b",
            "placeholder": "​",
            "style": "IPY_MODEL_b51415f44b7c4ddfa8ee43562990863d",
            "value": " 2085/2085 [06:06&lt;00:00,  5.70it/s, loss=2.61, v_num=1]"
          }
        },
        "09bf5db55b894889aea33d42235990b0": {
          "model_module": "@jupyter-widgets/base",
          "model_name": "LayoutModel",
          "model_module_version": "1.2.0",
          "state": {
            "_model_module": "@jupyter-widgets/base",
            "_model_module_version": "1.2.0",
            "_model_name": "LayoutModel",
            "_view_count": null,
            "_view_module": "@jupyter-widgets/base",
            "_view_module_version": "1.2.0",
            "_view_name": "LayoutView",
            "align_content": null,
            "align_items": null,
            "align_self": null,
            "border": null,
            "bottom": null,
            "display": "inline-flex",
            "flex": null,
            "flex_flow": "row wrap",
            "grid_area": null,
            "grid_auto_columns": null,
            "grid_auto_flow": null,
            "grid_auto_rows": null,
            "grid_column": null,
            "grid_gap": null,
            "grid_row": null,
            "grid_template_areas": null,
            "grid_template_columns": null,
            "grid_template_rows": null,
            "height": null,
            "justify_content": null,
            "justify_items": null,
            "left": null,
            "margin": null,
            "max_height": null,
            "max_width": null,
            "min_height": null,
            "min_width": null,
            "object_fit": null,
            "object_position": null,
            "order": null,
            "overflow": null,
            "overflow_x": null,
            "overflow_y": null,
            "padding": null,
            "right": null,
            "top": null,
            "visibility": null,
            "width": "100%"
          }
        },
        "6ee5aaf0bc684e478ec228da9328a9cb": {
          "model_module": "@jupyter-widgets/base",
          "model_name": "LayoutModel",
          "model_module_version": "1.2.0",
          "state": {
            "_model_module": "@jupyter-widgets/base",
            "_model_module_version": "1.2.0",
            "_model_name": "LayoutModel",
            "_view_count": null,
            "_view_module": "@jupyter-widgets/base",
            "_view_module_version": "1.2.0",
            "_view_name": "LayoutView",
            "align_content": null,
            "align_items": null,
            "align_self": null,
            "border": null,
            "bottom": null,
            "display": null,
            "flex": null,
            "flex_flow": null,
            "grid_area": null,
            "grid_auto_columns": null,
            "grid_auto_flow": null,
            "grid_auto_rows": null,
            "grid_column": null,
            "grid_gap": null,
            "grid_row": null,
            "grid_template_areas": null,
            "grid_template_columns": null,
            "grid_template_rows": null,
            "height": null,
            "justify_content": null,
            "justify_items": null,
            "left": null,
            "margin": null,
            "max_height": null,
            "max_width": null,
            "min_height": null,
            "min_width": null,
            "object_fit": null,
            "object_position": null,
            "order": null,
            "overflow": null,
            "overflow_x": null,
            "overflow_y": null,
            "padding": null,
            "right": null,
            "top": null,
            "visibility": null,
            "width": null
          }
        },
        "db6ace4fac7e48538ba2db3939c081f7": {
          "model_module": "@jupyter-widgets/controls",
          "model_name": "DescriptionStyleModel",
          "model_module_version": "1.5.0",
          "state": {
            "_model_module": "@jupyter-widgets/controls",
            "_model_module_version": "1.5.0",
            "_model_name": "DescriptionStyleModel",
            "_view_count": null,
            "_view_module": "@jupyter-widgets/base",
            "_view_module_version": "1.2.0",
            "_view_name": "StyleView",
            "description_width": ""
          }
        },
        "7274f9cdc7a44472b9d67e66332a0667": {
          "model_module": "@jupyter-widgets/base",
          "model_name": "LayoutModel",
          "model_module_version": "1.2.0",
          "state": {
            "_model_module": "@jupyter-widgets/base",
            "_model_module_version": "1.2.0",
            "_model_name": "LayoutModel",
            "_view_count": null,
            "_view_module": "@jupyter-widgets/base",
            "_view_module_version": "1.2.0",
            "_view_name": "LayoutView",
            "align_content": null,
            "align_items": null,
            "align_self": null,
            "border": null,
            "bottom": null,
            "display": null,
            "flex": "2",
            "flex_flow": null,
            "grid_area": null,
            "grid_auto_columns": null,
            "grid_auto_flow": null,
            "grid_auto_rows": null,
            "grid_column": null,
            "grid_gap": null,
            "grid_row": null,
            "grid_template_areas": null,
            "grid_template_columns": null,
            "grid_template_rows": null,
            "height": null,
            "justify_content": null,
            "justify_items": null,
            "left": null,
            "margin": null,
            "max_height": null,
            "max_width": null,
            "min_height": null,
            "min_width": null,
            "object_fit": null,
            "object_position": null,
            "order": null,
            "overflow": null,
            "overflow_x": null,
            "overflow_y": null,
            "padding": null,
            "right": null,
            "top": null,
            "visibility": null,
            "width": null
          }
        },
        "37cac7a884244410b7c2b97948999d6c": {
          "model_module": "@jupyter-widgets/controls",
          "model_name": "ProgressStyleModel",
          "model_module_version": "1.5.0",
          "state": {
            "_model_module": "@jupyter-widgets/controls",
            "_model_module_version": "1.5.0",
            "_model_name": "ProgressStyleModel",
            "_view_count": null,
            "_view_module": "@jupyter-widgets/base",
            "_view_module_version": "1.2.0",
            "_view_name": "StyleView",
            "bar_color": null,
            "description_width": ""
          }
        },
        "c71a3179095646f0b2eb6b059343608b": {
          "model_module": "@jupyter-widgets/base",
          "model_name": "LayoutModel",
          "model_module_version": "1.2.0",
          "state": {
            "_model_module": "@jupyter-widgets/base",
            "_model_module_version": "1.2.0",
            "_model_name": "LayoutModel",
            "_view_count": null,
            "_view_module": "@jupyter-widgets/base",
            "_view_module_version": "1.2.0",
            "_view_name": "LayoutView",
            "align_content": null,
            "align_items": null,
            "align_self": null,
            "border": null,
            "bottom": null,
            "display": null,
            "flex": null,
            "flex_flow": null,
            "grid_area": null,
            "grid_auto_columns": null,
            "grid_auto_flow": null,
            "grid_auto_rows": null,
            "grid_column": null,
            "grid_gap": null,
            "grid_row": null,
            "grid_template_areas": null,
            "grid_template_columns": null,
            "grid_template_rows": null,
            "height": null,
            "justify_content": null,
            "justify_items": null,
            "left": null,
            "margin": null,
            "max_height": null,
            "max_width": null,
            "min_height": null,
            "min_width": null,
            "object_fit": null,
            "object_position": null,
            "order": null,
            "overflow": null,
            "overflow_x": null,
            "overflow_y": null,
            "padding": null,
            "right": null,
            "top": null,
            "visibility": null,
            "width": null
          }
        },
        "b51415f44b7c4ddfa8ee43562990863d": {
          "model_module": "@jupyter-widgets/controls",
          "model_name": "DescriptionStyleModel",
          "model_module_version": "1.5.0",
          "state": {
            "_model_module": "@jupyter-widgets/controls",
            "_model_module_version": "1.5.0",
            "_model_name": "DescriptionStyleModel",
            "_view_count": null,
            "_view_module": "@jupyter-widgets/base",
            "_view_module_version": "1.2.0",
            "_view_name": "StyleView",
            "description_width": ""
          }
        },
        "8c4e8c225aef4617a879cbb4971e6f82": {
          "model_module": "@jupyter-widgets/controls",
          "model_name": "HBoxModel",
          "model_module_version": "1.5.0",
          "state": {
            "_dom_classes": [],
            "_model_module": "@jupyter-widgets/controls",
            "_model_module_version": "1.5.0",
            "_model_name": "HBoxModel",
            "_view_count": null,
            "_view_module": "@jupyter-widgets/controls",
            "_view_module_version": "1.5.0",
            "_view_name": "HBoxView",
            "box_style": "",
            "children": [
              "IPY_MODEL_76e2a7e2271944da874cebaf553f799d",
              "IPY_MODEL_398b235197764dc0b4dd39d7bcc86894",
              "IPY_MODEL_d300ddceb1bc47818a5bf3ffb1788755"
            ],
            "layout": "IPY_MODEL_d7d09e750b4d4a36b75d1503f3186061"
          }
        },
        "76e2a7e2271944da874cebaf553f799d": {
          "model_module": "@jupyter-widgets/controls",
          "model_name": "HTMLModel",
          "model_module_version": "1.5.0",
          "state": {
            "_dom_classes": [],
            "_model_module": "@jupyter-widgets/controls",
            "_model_module_version": "1.5.0",
            "_model_name": "HTMLModel",
            "_view_count": null,
            "_view_module": "@jupyter-widgets/controls",
            "_view_module_version": "1.5.0",
            "_view_name": "HTMLView",
            "description": "",
            "description_tooltip": null,
            "layout": "IPY_MODEL_b324a29413fa447dbfc649fdd7baff5b",
            "placeholder": "​",
            "style": "IPY_MODEL_abd06dc7a162460a843c0f6c5265cfa7",
            "value": "Validation DataLoader 0: 100%"
          }
        },
        "398b235197764dc0b4dd39d7bcc86894": {
          "model_module": "@jupyter-widgets/controls",
          "model_name": "FloatProgressModel",
          "model_module_version": "1.5.0",
          "state": {
            "_dom_classes": [],
            "_model_module": "@jupyter-widgets/controls",
            "_model_module_version": "1.5.0",
            "_model_name": "FloatProgressModel",
            "_view_count": null,
            "_view_module": "@jupyter-widgets/controls",
            "_view_module_version": "1.5.0",
            "_view_name": "ProgressView",
            "bar_style": "",
            "description": "",
            "description_tooltip": null,
            "layout": "IPY_MODEL_0bfc66542a884af9bb97df9c66b33a79",
            "max": 445,
            "min": 0,
            "orientation": "horizontal",
            "style": "IPY_MODEL_87ff70fa95564e63a68de5bd4b618c27",
            "value": 445
          }
        },
        "d300ddceb1bc47818a5bf3ffb1788755": {
          "model_module": "@jupyter-widgets/controls",
          "model_name": "HTMLModel",
          "model_module_version": "1.5.0",
          "state": {
            "_dom_classes": [],
            "_model_module": "@jupyter-widgets/controls",
            "_model_module_version": "1.5.0",
            "_model_name": "HTMLModel",
            "_view_count": null,
            "_view_module": "@jupyter-widgets/controls",
            "_view_module_version": "1.5.0",
            "_view_name": "HTMLView",
            "description": "",
            "description_tooltip": null,
            "layout": "IPY_MODEL_641ebf407f3d48428b7d9fb8aa447f10",
            "placeholder": "​",
            "style": "IPY_MODEL_83ff79320663415f869397da90526ca6",
            "value": " 445/445 [00:33&lt;00:00, 13.22it/s]"
          }
        },
        "d7d09e750b4d4a36b75d1503f3186061": {
          "model_module": "@jupyter-widgets/base",
          "model_name": "LayoutModel",
          "model_module_version": "1.2.0",
          "state": {
            "_model_module": "@jupyter-widgets/base",
            "_model_module_version": "1.2.0",
            "_model_name": "LayoutModel",
            "_view_count": null,
            "_view_module": "@jupyter-widgets/base",
            "_view_module_version": "1.2.0",
            "_view_name": "LayoutView",
            "align_content": null,
            "align_items": null,
            "align_self": null,
            "border": null,
            "bottom": null,
            "display": "inline-flex",
            "flex": null,
            "flex_flow": "row wrap",
            "grid_area": null,
            "grid_auto_columns": null,
            "grid_auto_flow": null,
            "grid_auto_rows": null,
            "grid_column": null,
            "grid_gap": null,
            "grid_row": null,
            "grid_template_areas": null,
            "grid_template_columns": null,
            "grid_template_rows": null,
            "height": null,
            "justify_content": null,
            "justify_items": null,
            "left": null,
            "margin": null,
            "max_height": null,
            "max_width": null,
            "min_height": null,
            "min_width": null,
            "object_fit": null,
            "object_position": null,
            "order": null,
            "overflow": null,
            "overflow_x": null,
            "overflow_y": null,
            "padding": null,
            "right": null,
            "top": null,
            "visibility": "hidden",
            "width": "100%"
          }
        },
        "b324a29413fa447dbfc649fdd7baff5b": {
          "model_module": "@jupyter-widgets/base",
          "model_name": "LayoutModel",
          "model_module_version": "1.2.0",
          "state": {
            "_model_module": "@jupyter-widgets/base",
            "_model_module_version": "1.2.0",
            "_model_name": "LayoutModel",
            "_view_count": null,
            "_view_module": "@jupyter-widgets/base",
            "_view_module_version": "1.2.0",
            "_view_name": "LayoutView",
            "align_content": null,
            "align_items": null,
            "align_self": null,
            "border": null,
            "bottom": null,
            "display": null,
            "flex": null,
            "flex_flow": null,
            "grid_area": null,
            "grid_auto_columns": null,
            "grid_auto_flow": null,
            "grid_auto_rows": null,
            "grid_column": null,
            "grid_gap": null,
            "grid_row": null,
            "grid_template_areas": null,
            "grid_template_columns": null,
            "grid_template_rows": null,
            "height": null,
            "justify_content": null,
            "justify_items": null,
            "left": null,
            "margin": null,
            "max_height": null,
            "max_width": null,
            "min_height": null,
            "min_width": null,
            "object_fit": null,
            "object_position": null,
            "order": null,
            "overflow": null,
            "overflow_x": null,
            "overflow_y": null,
            "padding": null,
            "right": null,
            "top": null,
            "visibility": null,
            "width": null
          }
        },
        "abd06dc7a162460a843c0f6c5265cfa7": {
          "model_module": "@jupyter-widgets/controls",
          "model_name": "DescriptionStyleModel",
          "model_module_version": "1.5.0",
          "state": {
            "_model_module": "@jupyter-widgets/controls",
            "_model_module_version": "1.5.0",
            "_model_name": "DescriptionStyleModel",
            "_view_count": null,
            "_view_module": "@jupyter-widgets/base",
            "_view_module_version": "1.2.0",
            "_view_name": "StyleView",
            "description_width": ""
          }
        },
        "0bfc66542a884af9bb97df9c66b33a79": {
          "model_module": "@jupyter-widgets/base",
          "model_name": "LayoutModel",
          "model_module_version": "1.2.0",
          "state": {
            "_model_module": "@jupyter-widgets/base",
            "_model_module_version": "1.2.0",
            "_model_name": "LayoutModel",
            "_view_count": null,
            "_view_module": "@jupyter-widgets/base",
            "_view_module_version": "1.2.0",
            "_view_name": "LayoutView",
            "align_content": null,
            "align_items": null,
            "align_self": null,
            "border": null,
            "bottom": null,
            "display": null,
            "flex": "2",
            "flex_flow": null,
            "grid_area": null,
            "grid_auto_columns": null,
            "grid_auto_flow": null,
            "grid_auto_rows": null,
            "grid_column": null,
            "grid_gap": null,
            "grid_row": null,
            "grid_template_areas": null,
            "grid_template_columns": null,
            "grid_template_rows": null,
            "height": null,
            "justify_content": null,
            "justify_items": null,
            "left": null,
            "margin": null,
            "max_height": null,
            "max_width": null,
            "min_height": null,
            "min_width": null,
            "object_fit": null,
            "object_position": null,
            "order": null,
            "overflow": null,
            "overflow_x": null,
            "overflow_y": null,
            "padding": null,
            "right": null,
            "top": null,
            "visibility": null,
            "width": null
          }
        },
        "87ff70fa95564e63a68de5bd4b618c27": {
          "model_module": "@jupyter-widgets/controls",
          "model_name": "ProgressStyleModel",
          "model_module_version": "1.5.0",
          "state": {
            "_model_module": "@jupyter-widgets/controls",
            "_model_module_version": "1.5.0",
            "_model_name": "ProgressStyleModel",
            "_view_count": null,
            "_view_module": "@jupyter-widgets/base",
            "_view_module_version": "1.2.0",
            "_view_name": "StyleView",
            "bar_color": null,
            "description_width": ""
          }
        },
        "641ebf407f3d48428b7d9fb8aa447f10": {
          "model_module": "@jupyter-widgets/base",
          "model_name": "LayoutModel",
          "model_module_version": "1.2.0",
          "state": {
            "_model_module": "@jupyter-widgets/base",
            "_model_module_version": "1.2.0",
            "_model_name": "LayoutModel",
            "_view_count": null,
            "_view_module": "@jupyter-widgets/base",
            "_view_module_version": "1.2.0",
            "_view_name": "LayoutView",
            "align_content": null,
            "align_items": null,
            "align_self": null,
            "border": null,
            "bottom": null,
            "display": null,
            "flex": null,
            "flex_flow": null,
            "grid_area": null,
            "grid_auto_columns": null,
            "grid_auto_flow": null,
            "grid_auto_rows": null,
            "grid_column": null,
            "grid_gap": null,
            "grid_row": null,
            "grid_template_areas": null,
            "grid_template_columns": null,
            "grid_template_rows": null,
            "height": null,
            "justify_content": null,
            "justify_items": null,
            "left": null,
            "margin": null,
            "max_height": null,
            "max_width": null,
            "min_height": null,
            "min_width": null,
            "object_fit": null,
            "object_position": null,
            "order": null,
            "overflow": null,
            "overflow_x": null,
            "overflow_y": null,
            "padding": null,
            "right": null,
            "top": null,
            "visibility": null,
            "width": null
          }
        },
        "83ff79320663415f869397da90526ca6": {
          "model_module": "@jupyter-widgets/controls",
          "model_name": "DescriptionStyleModel",
          "model_module_version": "1.5.0",
          "state": {
            "_model_module": "@jupyter-widgets/controls",
            "_model_module_version": "1.5.0",
            "_model_name": "DescriptionStyleModel",
            "_view_count": null,
            "_view_module": "@jupyter-widgets/base",
            "_view_module_version": "1.2.0",
            "_view_name": "StyleView",
            "description_width": ""
          }
        },
        "7685213584a0496ebc5ac447d3f33d25": {
          "model_module": "@jupyter-widgets/controls",
          "model_name": "HBoxModel",
          "model_module_version": "1.5.0",
          "state": {
            "_dom_classes": [],
            "_model_module": "@jupyter-widgets/controls",
            "_model_module_version": "1.5.0",
            "_model_name": "HBoxModel",
            "_view_count": null,
            "_view_module": "@jupyter-widgets/controls",
            "_view_module_version": "1.5.0",
            "_view_name": "HBoxView",
            "box_style": "",
            "children": [
              "IPY_MODEL_04db4b5548f34a6d8984b20ced9d4d5e",
              "IPY_MODEL_b784a39c695d452794964acccdc4e3d4",
              "IPY_MODEL_11d47af773a743d298154d32aee62c7c"
            ],
            "layout": "IPY_MODEL_c9a2a8451dbb46a6b1f3bc68c325671e"
          }
        },
        "04db4b5548f34a6d8984b20ced9d4d5e": {
          "model_module": "@jupyter-widgets/controls",
          "model_name": "HTMLModel",
          "model_module_version": "1.5.0",
          "state": {
            "_dom_classes": [],
            "_model_module": "@jupyter-widgets/controls",
            "_model_module_version": "1.5.0",
            "_model_name": "HTMLModel",
            "_view_count": null,
            "_view_module": "@jupyter-widgets/controls",
            "_view_module_version": "1.5.0",
            "_view_name": "HTMLView",
            "description": "",
            "description_tooltip": null,
            "layout": "IPY_MODEL_f868c30f9c9747e6bf040d077eee2669",
            "placeholder": "​",
            "style": "IPY_MODEL_994c76c52f794b7892a5604ff9bd9403",
            "value": "Validation DataLoader 0: 100%"
          }
        },
        "b784a39c695d452794964acccdc4e3d4": {
          "model_module": "@jupyter-widgets/controls",
          "model_name": "FloatProgressModel",
          "model_module_version": "1.5.0",
          "state": {
            "_dom_classes": [],
            "_model_module": "@jupyter-widgets/controls",
            "_model_module_version": "1.5.0",
            "_model_name": "FloatProgressModel",
            "_view_count": null,
            "_view_module": "@jupyter-widgets/controls",
            "_view_module_version": "1.5.0",
            "_view_name": "ProgressView",
            "bar_style": "",
            "description": "",
            "description_tooltip": null,
            "layout": "IPY_MODEL_23f5681889a444dd9272982aa559d721",
            "max": 445,
            "min": 0,
            "orientation": "horizontal",
            "style": "IPY_MODEL_68b0c22d811443549162d1b79ce4d469",
            "value": 445
          }
        },
        "11d47af773a743d298154d32aee62c7c": {
          "model_module": "@jupyter-widgets/controls",
          "model_name": "HTMLModel",
          "model_module_version": "1.5.0",
          "state": {
            "_dom_classes": [],
            "_model_module": "@jupyter-widgets/controls",
            "_model_module_version": "1.5.0",
            "_model_name": "HTMLModel",
            "_view_count": null,
            "_view_module": "@jupyter-widgets/controls",
            "_view_module_version": "1.5.0",
            "_view_name": "HTMLView",
            "description": "",
            "description_tooltip": null,
            "layout": "IPY_MODEL_16e31df6c1cc4004924f26ee0f59339e",
            "placeholder": "​",
            "style": "IPY_MODEL_98e355e2389c4e9c8117cd1e13dba21e",
            "value": " 445/445 [00:31&lt;00:00, 14.12it/s]"
          }
        },
        "c9a2a8451dbb46a6b1f3bc68c325671e": {
          "model_module": "@jupyter-widgets/base",
          "model_name": "LayoutModel",
          "model_module_version": "1.2.0",
          "state": {
            "_model_module": "@jupyter-widgets/base",
            "_model_module_version": "1.2.0",
            "_model_name": "LayoutModel",
            "_view_count": null,
            "_view_module": "@jupyter-widgets/base",
            "_view_module_version": "1.2.0",
            "_view_name": "LayoutView",
            "align_content": null,
            "align_items": null,
            "align_self": null,
            "border": null,
            "bottom": null,
            "display": "inline-flex",
            "flex": null,
            "flex_flow": "row wrap",
            "grid_area": null,
            "grid_auto_columns": null,
            "grid_auto_flow": null,
            "grid_auto_rows": null,
            "grid_column": null,
            "grid_gap": null,
            "grid_row": null,
            "grid_template_areas": null,
            "grid_template_columns": null,
            "grid_template_rows": null,
            "height": null,
            "justify_content": null,
            "justify_items": null,
            "left": null,
            "margin": null,
            "max_height": null,
            "max_width": null,
            "min_height": null,
            "min_width": null,
            "object_fit": null,
            "object_position": null,
            "order": null,
            "overflow": null,
            "overflow_x": null,
            "overflow_y": null,
            "padding": null,
            "right": null,
            "top": null,
            "visibility": "hidden",
            "width": "100%"
          }
        },
        "f868c30f9c9747e6bf040d077eee2669": {
          "model_module": "@jupyter-widgets/base",
          "model_name": "LayoutModel",
          "model_module_version": "1.2.0",
          "state": {
            "_model_module": "@jupyter-widgets/base",
            "_model_module_version": "1.2.0",
            "_model_name": "LayoutModel",
            "_view_count": null,
            "_view_module": "@jupyter-widgets/base",
            "_view_module_version": "1.2.0",
            "_view_name": "LayoutView",
            "align_content": null,
            "align_items": null,
            "align_self": null,
            "border": null,
            "bottom": null,
            "display": null,
            "flex": null,
            "flex_flow": null,
            "grid_area": null,
            "grid_auto_columns": null,
            "grid_auto_flow": null,
            "grid_auto_rows": null,
            "grid_column": null,
            "grid_gap": null,
            "grid_row": null,
            "grid_template_areas": null,
            "grid_template_columns": null,
            "grid_template_rows": null,
            "height": null,
            "justify_content": null,
            "justify_items": null,
            "left": null,
            "margin": null,
            "max_height": null,
            "max_width": null,
            "min_height": null,
            "min_width": null,
            "object_fit": null,
            "object_position": null,
            "order": null,
            "overflow": null,
            "overflow_x": null,
            "overflow_y": null,
            "padding": null,
            "right": null,
            "top": null,
            "visibility": null,
            "width": null
          }
        },
        "994c76c52f794b7892a5604ff9bd9403": {
          "model_module": "@jupyter-widgets/controls",
          "model_name": "DescriptionStyleModel",
          "model_module_version": "1.5.0",
          "state": {
            "_model_module": "@jupyter-widgets/controls",
            "_model_module_version": "1.5.0",
            "_model_name": "DescriptionStyleModel",
            "_view_count": null,
            "_view_module": "@jupyter-widgets/base",
            "_view_module_version": "1.2.0",
            "_view_name": "StyleView",
            "description_width": ""
          }
        },
        "23f5681889a444dd9272982aa559d721": {
          "model_module": "@jupyter-widgets/base",
          "model_name": "LayoutModel",
          "model_module_version": "1.2.0",
          "state": {
            "_model_module": "@jupyter-widgets/base",
            "_model_module_version": "1.2.0",
            "_model_name": "LayoutModel",
            "_view_count": null,
            "_view_module": "@jupyter-widgets/base",
            "_view_module_version": "1.2.0",
            "_view_name": "LayoutView",
            "align_content": null,
            "align_items": null,
            "align_self": null,
            "border": null,
            "bottom": null,
            "display": null,
            "flex": "2",
            "flex_flow": null,
            "grid_area": null,
            "grid_auto_columns": null,
            "grid_auto_flow": null,
            "grid_auto_rows": null,
            "grid_column": null,
            "grid_gap": null,
            "grid_row": null,
            "grid_template_areas": null,
            "grid_template_columns": null,
            "grid_template_rows": null,
            "height": null,
            "justify_content": null,
            "justify_items": null,
            "left": null,
            "margin": null,
            "max_height": null,
            "max_width": null,
            "min_height": null,
            "min_width": null,
            "object_fit": null,
            "object_position": null,
            "order": null,
            "overflow": null,
            "overflow_x": null,
            "overflow_y": null,
            "padding": null,
            "right": null,
            "top": null,
            "visibility": null,
            "width": null
          }
        },
        "68b0c22d811443549162d1b79ce4d469": {
          "model_module": "@jupyter-widgets/controls",
          "model_name": "ProgressStyleModel",
          "model_module_version": "1.5.0",
          "state": {
            "_model_module": "@jupyter-widgets/controls",
            "_model_module_version": "1.5.0",
            "_model_name": "ProgressStyleModel",
            "_view_count": null,
            "_view_module": "@jupyter-widgets/base",
            "_view_module_version": "1.2.0",
            "_view_name": "StyleView",
            "bar_color": null,
            "description_width": ""
          }
        },
        "16e31df6c1cc4004924f26ee0f59339e": {
          "model_module": "@jupyter-widgets/base",
          "model_name": "LayoutModel",
          "model_module_version": "1.2.0",
          "state": {
            "_model_module": "@jupyter-widgets/base",
            "_model_module_version": "1.2.0",
            "_model_name": "LayoutModel",
            "_view_count": null,
            "_view_module": "@jupyter-widgets/base",
            "_view_module_version": "1.2.0",
            "_view_name": "LayoutView",
            "align_content": null,
            "align_items": null,
            "align_self": null,
            "border": null,
            "bottom": null,
            "display": null,
            "flex": null,
            "flex_flow": null,
            "grid_area": null,
            "grid_auto_columns": null,
            "grid_auto_flow": null,
            "grid_auto_rows": null,
            "grid_column": null,
            "grid_gap": null,
            "grid_row": null,
            "grid_template_areas": null,
            "grid_template_columns": null,
            "grid_template_rows": null,
            "height": null,
            "justify_content": null,
            "justify_items": null,
            "left": null,
            "margin": null,
            "max_height": null,
            "max_width": null,
            "min_height": null,
            "min_width": null,
            "object_fit": null,
            "object_position": null,
            "order": null,
            "overflow": null,
            "overflow_x": null,
            "overflow_y": null,
            "padding": null,
            "right": null,
            "top": null,
            "visibility": null,
            "width": null
          }
        },
        "98e355e2389c4e9c8117cd1e13dba21e": {
          "model_module": "@jupyter-widgets/controls",
          "model_name": "DescriptionStyleModel",
          "model_module_version": "1.5.0",
          "state": {
            "_model_module": "@jupyter-widgets/controls",
            "_model_module_version": "1.5.0",
            "_model_name": "DescriptionStyleModel",
            "_view_count": null,
            "_view_module": "@jupyter-widgets/base",
            "_view_module_version": "1.2.0",
            "_view_name": "StyleView",
            "description_width": ""
          }
        },
        "9f4cbdf189c64c96bbe4427f11b2efc4": {
          "model_module": "@jupyter-widgets/controls",
          "model_name": "HBoxModel",
          "model_module_version": "1.5.0",
          "state": {
            "_dom_classes": [],
            "_model_module": "@jupyter-widgets/controls",
            "_model_module_version": "1.5.0",
            "_model_name": "HBoxModel",
            "_view_count": null,
            "_view_module": "@jupyter-widgets/controls",
            "_view_module_version": "1.5.0",
            "_view_name": "HBoxView",
            "box_style": "",
            "children": [
              "IPY_MODEL_5ab0e16354d8460581e72f619585c785",
              "IPY_MODEL_0793db64c28545e0ad01328a556c9d5a",
              "IPY_MODEL_3a063daa42c74229805561f65f192bff"
            ],
            "layout": "IPY_MODEL_30c42481dfab47d490adc1d9c685ee7a"
          }
        },
        "5ab0e16354d8460581e72f619585c785": {
          "model_module": "@jupyter-widgets/controls",
          "model_name": "HTMLModel",
          "model_module_version": "1.5.0",
          "state": {
            "_dom_classes": [],
            "_model_module": "@jupyter-widgets/controls",
            "_model_module_version": "1.5.0",
            "_model_name": "HTMLModel",
            "_view_count": null,
            "_view_module": "@jupyter-widgets/controls",
            "_view_module_version": "1.5.0",
            "_view_name": "HTMLView",
            "description": "",
            "description_tooltip": null,
            "layout": "IPY_MODEL_0e39f308ecf24fbe887bf0f08972275d",
            "placeholder": "​",
            "style": "IPY_MODEL_99d178cdc13a47328a6148440b1c8384",
            "value": "Validation DataLoader 0: 100%"
          }
        },
        "0793db64c28545e0ad01328a556c9d5a": {
          "model_module": "@jupyter-widgets/controls",
          "model_name": "FloatProgressModel",
          "model_module_version": "1.5.0",
          "state": {
            "_dom_classes": [],
            "_model_module": "@jupyter-widgets/controls",
            "_model_module_version": "1.5.0",
            "_model_name": "FloatProgressModel",
            "_view_count": null,
            "_view_module": "@jupyter-widgets/controls",
            "_view_module_version": "1.5.0",
            "_view_name": "ProgressView",
            "bar_style": "",
            "description": "",
            "description_tooltip": null,
            "layout": "IPY_MODEL_54bb5c664add48b6897d8d991c67232c",
            "max": 445,
            "min": 0,
            "orientation": "horizontal",
            "style": "IPY_MODEL_045a58cb153c475eacf374c516c93530",
            "value": 445
          }
        },
        "3a063daa42c74229805561f65f192bff": {
          "model_module": "@jupyter-widgets/controls",
          "model_name": "HTMLModel",
          "model_module_version": "1.5.0",
          "state": {
            "_dom_classes": [],
            "_model_module": "@jupyter-widgets/controls",
            "_model_module_version": "1.5.0",
            "_model_name": "HTMLModel",
            "_view_count": null,
            "_view_module": "@jupyter-widgets/controls",
            "_view_module_version": "1.5.0",
            "_view_name": "HTMLView",
            "description": "",
            "description_tooltip": null,
            "layout": "IPY_MODEL_71999be8a29f4599a0b2538c74728f35",
            "placeholder": "​",
            "style": "IPY_MODEL_2b56d5ad35ba4f228bb034c2cefbc18e",
            "value": " 445/445 [00:32&lt;00:00, 13.79it/s]"
          }
        },
        "30c42481dfab47d490adc1d9c685ee7a": {
          "model_module": "@jupyter-widgets/base",
          "model_name": "LayoutModel",
          "model_module_version": "1.2.0",
          "state": {
            "_model_module": "@jupyter-widgets/base",
            "_model_module_version": "1.2.0",
            "_model_name": "LayoutModel",
            "_view_count": null,
            "_view_module": "@jupyter-widgets/base",
            "_view_module_version": "1.2.0",
            "_view_name": "LayoutView",
            "align_content": null,
            "align_items": null,
            "align_self": null,
            "border": null,
            "bottom": null,
            "display": "inline-flex",
            "flex": null,
            "flex_flow": "row wrap",
            "grid_area": null,
            "grid_auto_columns": null,
            "grid_auto_flow": null,
            "grid_auto_rows": null,
            "grid_column": null,
            "grid_gap": null,
            "grid_row": null,
            "grid_template_areas": null,
            "grid_template_columns": null,
            "grid_template_rows": null,
            "height": null,
            "justify_content": null,
            "justify_items": null,
            "left": null,
            "margin": null,
            "max_height": null,
            "max_width": null,
            "min_height": null,
            "min_width": null,
            "object_fit": null,
            "object_position": null,
            "order": null,
            "overflow": null,
            "overflow_x": null,
            "overflow_y": null,
            "padding": null,
            "right": null,
            "top": null,
            "visibility": "hidden",
            "width": "100%"
          }
        },
        "0e39f308ecf24fbe887bf0f08972275d": {
          "model_module": "@jupyter-widgets/base",
          "model_name": "LayoutModel",
          "model_module_version": "1.2.0",
          "state": {
            "_model_module": "@jupyter-widgets/base",
            "_model_module_version": "1.2.0",
            "_model_name": "LayoutModel",
            "_view_count": null,
            "_view_module": "@jupyter-widgets/base",
            "_view_module_version": "1.2.0",
            "_view_name": "LayoutView",
            "align_content": null,
            "align_items": null,
            "align_self": null,
            "border": null,
            "bottom": null,
            "display": null,
            "flex": null,
            "flex_flow": null,
            "grid_area": null,
            "grid_auto_columns": null,
            "grid_auto_flow": null,
            "grid_auto_rows": null,
            "grid_column": null,
            "grid_gap": null,
            "grid_row": null,
            "grid_template_areas": null,
            "grid_template_columns": null,
            "grid_template_rows": null,
            "height": null,
            "justify_content": null,
            "justify_items": null,
            "left": null,
            "margin": null,
            "max_height": null,
            "max_width": null,
            "min_height": null,
            "min_width": null,
            "object_fit": null,
            "object_position": null,
            "order": null,
            "overflow": null,
            "overflow_x": null,
            "overflow_y": null,
            "padding": null,
            "right": null,
            "top": null,
            "visibility": null,
            "width": null
          }
        },
        "99d178cdc13a47328a6148440b1c8384": {
          "model_module": "@jupyter-widgets/controls",
          "model_name": "DescriptionStyleModel",
          "model_module_version": "1.5.0",
          "state": {
            "_model_module": "@jupyter-widgets/controls",
            "_model_module_version": "1.5.0",
            "_model_name": "DescriptionStyleModel",
            "_view_count": null,
            "_view_module": "@jupyter-widgets/base",
            "_view_module_version": "1.2.0",
            "_view_name": "StyleView",
            "description_width": ""
          }
        },
        "54bb5c664add48b6897d8d991c67232c": {
          "model_module": "@jupyter-widgets/base",
          "model_name": "LayoutModel",
          "model_module_version": "1.2.0",
          "state": {
            "_model_module": "@jupyter-widgets/base",
            "_model_module_version": "1.2.0",
            "_model_name": "LayoutModel",
            "_view_count": null,
            "_view_module": "@jupyter-widgets/base",
            "_view_module_version": "1.2.0",
            "_view_name": "LayoutView",
            "align_content": null,
            "align_items": null,
            "align_self": null,
            "border": null,
            "bottom": null,
            "display": null,
            "flex": "2",
            "flex_flow": null,
            "grid_area": null,
            "grid_auto_columns": null,
            "grid_auto_flow": null,
            "grid_auto_rows": null,
            "grid_column": null,
            "grid_gap": null,
            "grid_row": null,
            "grid_template_areas": null,
            "grid_template_columns": null,
            "grid_template_rows": null,
            "height": null,
            "justify_content": null,
            "justify_items": null,
            "left": null,
            "margin": null,
            "max_height": null,
            "max_width": null,
            "min_height": null,
            "min_width": null,
            "object_fit": null,
            "object_position": null,
            "order": null,
            "overflow": null,
            "overflow_x": null,
            "overflow_y": null,
            "padding": null,
            "right": null,
            "top": null,
            "visibility": null,
            "width": null
          }
        },
        "045a58cb153c475eacf374c516c93530": {
          "model_module": "@jupyter-widgets/controls",
          "model_name": "ProgressStyleModel",
          "model_module_version": "1.5.0",
          "state": {
            "_model_module": "@jupyter-widgets/controls",
            "_model_module_version": "1.5.0",
            "_model_name": "ProgressStyleModel",
            "_view_count": null,
            "_view_module": "@jupyter-widgets/base",
            "_view_module_version": "1.2.0",
            "_view_name": "StyleView",
            "bar_color": null,
            "description_width": ""
          }
        },
        "71999be8a29f4599a0b2538c74728f35": {
          "model_module": "@jupyter-widgets/base",
          "model_name": "LayoutModel",
          "model_module_version": "1.2.0",
          "state": {
            "_model_module": "@jupyter-widgets/base",
            "_model_module_version": "1.2.0",
            "_model_name": "LayoutModel",
            "_view_count": null,
            "_view_module": "@jupyter-widgets/base",
            "_view_module_version": "1.2.0",
            "_view_name": "LayoutView",
            "align_content": null,
            "align_items": null,
            "align_self": null,
            "border": null,
            "bottom": null,
            "display": null,
            "flex": null,
            "flex_flow": null,
            "grid_area": null,
            "grid_auto_columns": null,
            "grid_auto_flow": null,
            "grid_auto_rows": null,
            "grid_column": null,
            "grid_gap": null,
            "grid_row": null,
            "grid_template_areas": null,
            "grid_template_columns": null,
            "grid_template_rows": null,
            "height": null,
            "justify_content": null,
            "justify_items": null,
            "left": null,
            "margin": null,
            "max_height": null,
            "max_width": null,
            "min_height": null,
            "min_width": null,
            "object_fit": null,
            "object_position": null,
            "order": null,
            "overflow": null,
            "overflow_x": null,
            "overflow_y": null,
            "padding": null,
            "right": null,
            "top": null,
            "visibility": null,
            "width": null
          }
        },
        "2b56d5ad35ba4f228bb034c2cefbc18e": {
          "model_module": "@jupyter-widgets/controls",
          "model_name": "DescriptionStyleModel",
          "model_module_version": "1.5.0",
          "state": {
            "_model_module": "@jupyter-widgets/controls",
            "_model_module_version": "1.5.0",
            "_model_name": "DescriptionStyleModel",
            "_view_count": null,
            "_view_module": "@jupyter-widgets/base",
            "_view_module_version": "1.2.0",
            "_view_name": "StyleView",
            "description_width": ""
          }
        },
        "7365d30aad574c63814fd865ffe2239f": {
          "model_module": "@jupyter-widgets/controls",
          "model_name": "HBoxModel",
          "model_module_version": "1.5.0",
          "state": {
            "_dom_classes": [],
            "_model_module": "@jupyter-widgets/controls",
            "_model_module_version": "1.5.0",
            "_model_name": "HBoxModel",
            "_view_count": null,
            "_view_module": "@jupyter-widgets/controls",
            "_view_module_version": "1.5.0",
            "_view_name": "HBoxView",
            "box_style": "",
            "children": [
              "IPY_MODEL_29c0b4c5c08c4da2a3436cdc23c9aa2f",
              "IPY_MODEL_81a35246e5274a3698c9796e2ce9e4b3",
              "IPY_MODEL_c925310a054749aab2e4fb87771b0e75"
            ],
            "layout": "IPY_MODEL_7b1384d563db4f058b51d6f5ab82b1f6"
          }
        },
        "29c0b4c5c08c4da2a3436cdc23c9aa2f": {
          "model_module": "@jupyter-widgets/controls",
          "model_name": "HTMLModel",
          "model_module_version": "1.5.0",
          "state": {
            "_dom_classes": [],
            "_model_module": "@jupyter-widgets/controls",
            "_model_module_version": "1.5.0",
            "_model_name": "HTMLModel",
            "_view_count": null,
            "_view_module": "@jupyter-widgets/controls",
            "_view_module_version": "1.5.0",
            "_view_name": "HTMLView",
            "description": "",
            "description_tooltip": null,
            "layout": "IPY_MODEL_f3f6473ab4bd48cbbde785fba6c509fd",
            "placeholder": "​",
            "style": "IPY_MODEL_57e25a4ff5924aef8db5e93971e4f57e",
            "value": "Validation DataLoader 0: 100%"
          }
        },
        "81a35246e5274a3698c9796e2ce9e4b3": {
          "model_module": "@jupyter-widgets/controls",
          "model_name": "FloatProgressModel",
          "model_module_version": "1.5.0",
          "state": {
            "_dom_classes": [],
            "_model_module": "@jupyter-widgets/controls",
            "_model_module_version": "1.5.0",
            "_model_name": "FloatProgressModel",
            "_view_count": null,
            "_view_module": "@jupyter-widgets/controls",
            "_view_module_version": "1.5.0",
            "_view_name": "ProgressView",
            "bar_style": "",
            "description": "",
            "description_tooltip": null,
            "layout": "IPY_MODEL_f7705b4f61f14626b1291e9893c95133",
            "max": 445,
            "min": 0,
            "orientation": "horizontal",
            "style": "IPY_MODEL_1876368b58504653a4cbd4b05779df45",
            "value": 445
          }
        },
        "c925310a054749aab2e4fb87771b0e75": {
          "model_module": "@jupyter-widgets/controls",
          "model_name": "HTMLModel",
          "model_module_version": "1.5.0",
          "state": {
            "_dom_classes": [],
            "_model_module": "@jupyter-widgets/controls",
            "_model_module_version": "1.5.0",
            "_model_name": "HTMLModel",
            "_view_count": null,
            "_view_module": "@jupyter-widgets/controls",
            "_view_module_version": "1.5.0",
            "_view_name": "HTMLView",
            "description": "",
            "description_tooltip": null,
            "layout": "IPY_MODEL_23735137ecbd4c22b16d27fe77e30d90",
            "placeholder": "​",
            "style": "IPY_MODEL_ebb7b0b08f124290a31556991b54e001",
            "value": " 445/445 [00:33&lt;00:00, 13.12it/s]"
          }
        },
        "7b1384d563db4f058b51d6f5ab82b1f6": {
          "model_module": "@jupyter-widgets/base",
          "model_name": "LayoutModel",
          "model_module_version": "1.2.0",
          "state": {
            "_model_module": "@jupyter-widgets/base",
            "_model_module_version": "1.2.0",
            "_model_name": "LayoutModel",
            "_view_count": null,
            "_view_module": "@jupyter-widgets/base",
            "_view_module_version": "1.2.0",
            "_view_name": "LayoutView",
            "align_content": null,
            "align_items": null,
            "align_self": null,
            "border": null,
            "bottom": null,
            "display": "inline-flex",
            "flex": null,
            "flex_flow": "row wrap",
            "grid_area": null,
            "grid_auto_columns": null,
            "grid_auto_flow": null,
            "grid_auto_rows": null,
            "grid_column": null,
            "grid_gap": null,
            "grid_row": null,
            "grid_template_areas": null,
            "grid_template_columns": null,
            "grid_template_rows": null,
            "height": null,
            "justify_content": null,
            "justify_items": null,
            "left": null,
            "margin": null,
            "max_height": null,
            "max_width": null,
            "min_height": null,
            "min_width": null,
            "object_fit": null,
            "object_position": null,
            "order": null,
            "overflow": null,
            "overflow_x": null,
            "overflow_y": null,
            "padding": null,
            "right": null,
            "top": null,
            "visibility": "hidden",
            "width": "100%"
          }
        },
        "f3f6473ab4bd48cbbde785fba6c509fd": {
          "model_module": "@jupyter-widgets/base",
          "model_name": "LayoutModel",
          "model_module_version": "1.2.0",
          "state": {
            "_model_module": "@jupyter-widgets/base",
            "_model_module_version": "1.2.0",
            "_model_name": "LayoutModel",
            "_view_count": null,
            "_view_module": "@jupyter-widgets/base",
            "_view_module_version": "1.2.0",
            "_view_name": "LayoutView",
            "align_content": null,
            "align_items": null,
            "align_self": null,
            "border": null,
            "bottom": null,
            "display": null,
            "flex": null,
            "flex_flow": null,
            "grid_area": null,
            "grid_auto_columns": null,
            "grid_auto_flow": null,
            "grid_auto_rows": null,
            "grid_column": null,
            "grid_gap": null,
            "grid_row": null,
            "grid_template_areas": null,
            "grid_template_columns": null,
            "grid_template_rows": null,
            "height": null,
            "justify_content": null,
            "justify_items": null,
            "left": null,
            "margin": null,
            "max_height": null,
            "max_width": null,
            "min_height": null,
            "min_width": null,
            "object_fit": null,
            "object_position": null,
            "order": null,
            "overflow": null,
            "overflow_x": null,
            "overflow_y": null,
            "padding": null,
            "right": null,
            "top": null,
            "visibility": null,
            "width": null
          }
        },
        "57e25a4ff5924aef8db5e93971e4f57e": {
          "model_module": "@jupyter-widgets/controls",
          "model_name": "DescriptionStyleModel",
          "model_module_version": "1.5.0",
          "state": {
            "_model_module": "@jupyter-widgets/controls",
            "_model_module_version": "1.5.0",
            "_model_name": "DescriptionStyleModel",
            "_view_count": null,
            "_view_module": "@jupyter-widgets/base",
            "_view_module_version": "1.2.0",
            "_view_name": "StyleView",
            "description_width": ""
          }
        },
        "f7705b4f61f14626b1291e9893c95133": {
          "model_module": "@jupyter-widgets/base",
          "model_name": "LayoutModel",
          "model_module_version": "1.2.0",
          "state": {
            "_model_module": "@jupyter-widgets/base",
            "_model_module_version": "1.2.0",
            "_model_name": "LayoutModel",
            "_view_count": null,
            "_view_module": "@jupyter-widgets/base",
            "_view_module_version": "1.2.0",
            "_view_name": "LayoutView",
            "align_content": null,
            "align_items": null,
            "align_self": null,
            "border": null,
            "bottom": null,
            "display": null,
            "flex": "2",
            "flex_flow": null,
            "grid_area": null,
            "grid_auto_columns": null,
            "grid_auto_flow": null,
            "grid_auto_rows": null,
            "grid_column": null,
            "grid_gap": null,
            "grid_row": null,
            "grid_template_areas": null,
            "grid_template_columns": null,
            "grid_template_rows": null,
            "height": null,
            "justify_content": null,
            "justify_items": null,
            "left": null,
            "margin": null,
            "max_height": null,
            "max_width": null,
            "min_height": null,
            "min_width": null,
            "object_fit": null,
            "object_position": null,
            "order": null,
            "overflow": null,
            "overflow_x": null,
            "overflow_y": null,
            "padding": null,
            "right": null,
            "top": null,
            "visibility": null,
            "width": null
          }
        },
        "1876368b58504653a4cbd4b05779df45": {
          "model_module": "@jupyter-widgets/controls",
          "model_name": "ProgressStyleModel",
          "model_module_version": "1.5.0",
          "state": {
            "_model_module": "@jupyter-widgets/controls",
            "_model_module_version": "1.5.0",
            "_model_name": "ProgressStyleModel",
            "_view_count": null,
            "_view_module": "@jupyter-widgets/base",
            "_view_module_version": "1.2.0",
            "_view_name": "StyleView",
            "bar_color": null,
            "description_width": ""
          }
        },
        "23735137ecbd4c22b16d27fe77e30d90": {
          "model_module": "@jupyter-widgets/base",
          "model_name": "LayoutModel",
          "model_module_version": "1.2.0",
          "state": {
            "_model_module": "@jupyter-widgets/base",
            "_model_module_version": "1.2.0",
            "_model_name": "LayoutModel",
            "_view_count": null,
            "_view_module": "@jupyter-widgets/base",
            "_view_module_version": "1.2.0",
            "_view_name": "LayoutView",
            "align_content": null,
            "align_items": null,
            "align_self": null,
            "border": null,
            "bottom": null,
            "display": null,
            "flex": null,
            "flex_flow": null,
            "grid_area": null,
            "grid_auto_columns": null,
            "grid_auto_flow": null,
            "grid_auto_rows": null,
            "grid_column": null,
            "grid_gap": null,
            "grid_row": null,
            "grid_template_areas": null,
            "grid_template_columns": null,
            "grid_template_rows": null,
            "height": null,
            "justify_content": null,
            "justify_items": null,
            "left": null,
            "margin": null,
            "max_height": null,
            "max_width": null,
            "min_height": null,
            "min_width": null,
            "object_fit": null,
            "object_position": null,
            "order": null,
            "overflow": null,
            "overflow_x": null,
            "overflow_y": null,
            "padding": null,
            "right": null,
            "top": null,
            "visibility": null,
            "width": null
          }
        },
        "ebb7b0b08f124290a31556991b54e001": {
          "model_module": "@jupyter-widgets/controls",
          "model_name": "DescriptionStyleModel",
          "model_module_version": "1.5.0",
          "state": {
            "_model_module": "@jupyter-widgets/controls",
            "_model_module_version": "1.5.0",
            "_model_name": "DescriptionStyleModel",
            "_view_count": null,
            "_view_module": "@jupyter-widgets/base",
            "_view_module_version": "1.2.0",
            "_view_name": "StyleView",
            "description_width": ""
          }
        },
        "fd3189e1ee1a4cc9819ee84cf3967f92": {
          "model_module": "@jupyter-widgets/controls",
          "model_name": "HBoxModel",
          "model_module_version": "1.5.0",
          "state": {
            "_dom_classes": [],
            "_model_module": "@jupyter-widgets/controls",
            "_model_module_version": "1.5.0",
            "_model_name": "HBoxModel",
            "_view_count": null,
            "_view_module": "@jupyter-widgets/controls",
            "_view_module_version": "1.5.0",
            "_view_name": "HBoxView",
            "box_style": "",
            "children": [
              "IPY_MODEL_810462f49f6541308b915128fecdd936",
              "IPY_MODEL_cd1a4cc4da6b4d93bd3e8851e98772d8",
              "IPY_MODEL_8f0c45f798664834986892e23c65b1b6"
            ],
            "layout": "IPY_MODEL_eeb888320cd04d478e398f59e42fb5ff"
          }
        },
        "810462f49f6541308b915128fecdd936": {
          "model_module": "@jupyter-widgets/controls",
          "model_name": "HTMLModel",
          "model_module_version": "1.5.0",
          "state": {
            "_dom_classes": [],
            "_model_module": "@jupyter-widgets/controls",
            "_model_module_version": "1.5.0",
            "_model_name": "HTMLModel",
            "_view_count": null,
            "_view_module": "@jupyter-widgets/controls",
            "_view_module_version": "1.5.0",
            "_view_name": "HTMLView",
            "description": "",
            "description_tooltip": null,
            "layout": "IPY_MODEL_86b69db684de4385b99007d55d53acbb",
            "placeholder": "​",
            "style": "IPY_MODEL_71fa5eedbdeb40a2acce212ae1c0b03b",
            "value": "Validation DataLoader 0: 100%"
          }
        },
        "cd1a4cc4da6b4d93bd3e8851e98772d8": {
          "model_module": "@jupyter-widgets/controls",
          "model_name": "FloatProgressModel",
          "model_module_version": "1.5.0",
          "state": {
            "_dom_classes": [],
            "_model_module": "@jupyter-widgets/controls",
            "_model_module_version": "1.5.0",
            "_model_name": "FloatProgressModel",
            "_view_count": null,
            "_view_module": "@jupyter-widgets/controls",
            "_view_module_version": "1.5.0",
            "_view_name": "ProgressView",
            "bar_style": "",
            "description": "",
            "description_tooltip": null,
            "layout": "IPY_MODEL_772b04f2da00483d855e70bead44f56c",
            "max": 445,
            "min": 0,
            "orientation": "horizontal",
            "style": "IPY_MODEL_32e7249f75a1418ba57a84de876afa42",
            "value": 445
          }
        },
        "8f0c45f798664834986892e23c65b1b6": {
          "model_module": "@jupyter-widgets/controls",
          "model_name": "HTMLModel",
          "model_module_version": "1.5.0",
          "state": {
            "_dom_classes": [],
            "_model_module": "@jupyter-widgets/controls",
            "_model_module_version": "1.5.0",
            "_model_name": "HTMLModel",
            "_view_count": null,
            "_view_module": "@jupyter-widgets/controls",
            "_view_module_version": "1.5.0",
            "_view_name": "HTMLView",
            "description": "",
            "description_tooltip": null,
            "layout": "IPY_MODEL_2538cfe76f1441748b61a245b3df7dfa",
            "placeholder": "​",
            "style": "IPY_MODEL_72e47486b9244675bd64c96e8b6adae1",
            "value": " 445/445 [00:34&lt;00:00, 12.87it/s]"
          }
        },
        "eeb888320cd04d478e398f59e42fb5ff": {
          "model_module": "@jupyter-widgets/base",
          "model_name": "LayoutModel",
          "model_module_version": "1.2.0",
          "state": {
            "_model_module": "@jupyter-widgets/base",
            "_model_module_version": "1.2.0",
            "_model_name": "LayoutModel",
            "_view_count": null,
            "_view_module": "@jupyter-widgets/base",
            "_view_module_version": "1.2.0",
            "_view_name": "LayoutView",
            "align_content": null,
            "align_items": null,
            "align_self": null,
            "border": null,
            "bottom": null,
            "display": "inline-flex",
            "flex": null,
            "flex_flow": "row wrap",
            "grid_area": null,
            "grid_auto_columns": null,
            "grid_auto_flow": null,
            "grid_auto_rows": null,
            "grid_column": null,
            "grid_gap": null,
            "grid_row": null,
            "grid_template_areas": null,
            "grid_template_columns": null,
            "grid_template_rows": null,
            "height": null,
            "justify_content": null,
            "justify_items": null,
            "left": null,
            "margin": null,
            "max_height": null,
            "max_width": null,
            "min_height": null,
            "min_width": null,
            "object_fit": null,
            "object_position": null,
            "order": null,
            "overflow": null,
            "overflow_x": null,
            "overflow_y": null,
            "padding": null,
            "right": null,
            "top": null,
            "visibility": "hidden",
            "width": "100%"
          }
        },
        "86b69db684de4385b99007d55d53acbb": {
          "model_module": "@jupyter-widgets/base",
          "model_name": "LayoutModel",
          "model_module_version": "1.2.0",
          "state": {
            "_model_module": "@jupyter-widgets/base",
            "_model_module_version": "1.2.0",
            "_model_name": "LayoutModel",
            "_view_count": null,
            "_view_module": "@jupyter-widgets/base",
            "_view_module_version": "1.2.0",
            "_view_name": "LayoutView",
            "align_content": null,
            "align_items": null,
            "align_self": null,
            "border": null,
            "bottom": null,
            "display": null,
            "flex": null,
            "flex_flow": null,
            "grid_area": null,
            "grid_auto_columns": null,
            "grid_auto_flow": null,
            "grid_auto_rows": null,
            "grid_column": null,
            "grid_gap": null,
            "grid_row": null,
            "grid_template_areas": null,
            "grid_template_columns": null,
            "grid_template_rows": null,
            "height": null,
            "justify_content": null,
            "justify_items": null,
            "left": null,
            "margin": null,
            "max_height": null,
            "max_width": null,
            "min_height": null,
            "min_width": null,
            "object_fit": null,
            "object_position": null,
            "order": null,
            "overflow": null,
            "overflow_x": null,
            "overflow_y": null,
            "padding": null,
            "right": null,
            "top": null,
            "visibility": null,
            "width": null
          }
        },
        "71fa5eedbdeb40a2acce212ae1c0b03b": {
          "model_module": "@jupyter-widgets/controls",
          "model_name": "DescriptionStyleModel",
          "model_module_version": "1.5.0",
          "state": {
            "_model_module": "@jupyter-widgets/controls",
            "_model_module_version": "1.5.0",
            "_model_name": "DescriptionStyleModel",
            "_view_count": null,
            "_view_module": "@jupyter-widgets/base",
            "_view_module_version": "1.2.0",
            "_view_name": "StyleView",
            "description_width": ""
          }
        },
        "772b04f2da00483d855e70bead44f56c": {
          "model_module": "@jupyter-widgets/base",
          "model_name": "LayoutModel",
          "model_module_version": "1.2.0",
          "state": {
            "_model_module": "@jupyter-widgets/base",
            "_model_module_version": "1.2.0",
            "_model_name": "LayoutModel",
            "_view_count": null,
            "_view_module": "@jupyter-widgets/base",
            "_view_module_version": "1.2.0",
            "_view_name": "LayoutView",
            "align_content": null,
            "align_items": null,
            "align_self": null,
            "border": null,
            "bottom": null,
            "display": null,
            "flex": "2",
            "flex_flow": null,
            "grid_area": null,
            "grid_auto_columns": null,
            "grid_auto_flow": null,
            "grid_auto_rows": null,
            "grid_column": null,
            "grid_gap": null,
            "grid_row": null,
            "grid_template_areas": null,
            "grid_template_columns": null,
            "grid_template_rows": null,
            "height": null,
            "justify_content": null,
            "justify_items": null,
            "left": null,
            "margin": null,
            "max_height": null,
            "max_width": null,
            "min_height": null,
            "min_width": null,
            "object_fit": null,
            "object_position": null,
            "order": null,
            "overflow": null,
            "overflow_x": null,
            "overflow_y": null,
            "padding": null,
            "right": null,
            "top": null,
            "visibility": null,
            "width": null
          }
        },
        "32e7249f75a1418ba57a84de876afa42": {
          "model_module": "@jupyter-widgets/controls",
          "model_name": "ProgressStyleModel",
          "model_module_version": "1.5.0",
          "state": {
            "_model_module": "@jupyter-widgets/controls",
            "_model_module_version": "1.5.0",
            "_model_name": "ProgressStyleModel",
            "_view_count": null,
            "_view_module": "@jupyter-widgets/base",
            "_view_module_version": "1.2.0",
            "_view_name": "StyleView",
            "bar_color": null,
            "description_width": ""
          }
        },
        "2538cfe76f1441748b61a245b3df7dfa": {
          "model_module": "@jupyter-widgets/base",
          "model_name": "LayoutModel",
          "model_module_version": "1.2.0",
          "state": {
            "_model_module": "@jupyter-widgets/base",
            "_model_module_version": "1.2.0",
            "_model_name": "LayoutModel",
            "_view_count": null,
            "_view_module": "@jupyter-widgets/base",
            "_view_module_version": "1.2.0",
            "_view_name": "LayoutView",
            "align_content": null,
            "align_items": null,
            "align_self": null,
            "border": null,
            "bottom": null,
            "display": null,
            "flex": null,
            "flex_flow": null,
            "grid_area": null,
            "grid_auto_columns": null,
            "grid_auto_flow": null,
            "grid_auto_rows": null,
            "grid_column": null,
            "grid_gap": null,
            "grid_row": null,
            "grid_template_areas": null,
            "grid_template_columns": null,
            "grid_template_rows": null,
            "height": null,
            "justify_content": null,
            "justify_items": null,
            "left": null,
            "margin": null,
            "max_height": null,
            "max_width": null,
            "min_height": null,
            "min_width": null,
            "object_fit": null,
            "object_position": null,
            "order": null,
            "overflow": null,
            "overflow_x": null,
            "overflow_y": null,
            "padding": null,
            "right": null,
            "top": null,
            "visibility": null,
            "width": null
          }
        },
        "72e47486b9244675bd64c96e8b6adae1": {
          "model_module": "@jupyter-widgets/controls",
          "model_name": "DescriptionStyleModel",
          "model_module_version": "1.5.0",
          "state": {
            "_model_module": "@jupyter-widgets/controls",
            "_model_module_version": "1.5.0",
            "_model_name": "DescriptionStyleModel",
            "_view_count": null,
            "_view_module": "@jupyter-widgets/base",
            "_view_module_version": "1.2.0",
            "_view_name": "StyleView",
            "description_width": ""
          }
        }
      }
    },
    "accelerator": "GPU"
  },
  "nbformat": 4,
  "nbformat_minor": 0
}
